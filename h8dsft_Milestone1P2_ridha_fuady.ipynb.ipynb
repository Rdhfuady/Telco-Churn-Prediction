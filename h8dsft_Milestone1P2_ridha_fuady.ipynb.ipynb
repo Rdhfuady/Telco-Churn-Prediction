{
 "cells": [
  {
   "cell_type": "markdown",
   "metadata": {},
   "source": [
    "#### 1. Perkenalan\n",
    "\n",
    "Nama : Ridha Fuady<br>\n",
    "Batch : FTDS-011<br>\n",
    "Dataset : Telco Customer Churn<br>\n",
    "Objective : Make ANN Learning to Predict Churn"
   ]
  },
  {
   "cell_type": "markdown",
   "metadata": {},
   "source": [
    "### 2. Import Libraries"
   ]
  },
  {
   "cell_type": "code",
   "execution_count": 142,
   "metadata": {},
   "outputs": [],
   "source": [
    "import pandas as pd\n",
    "import numpy as np\n",
    "import seaborn as sns\n",
    "import matplotlib.pyplot as plt\n",
    "from sklearn.model_selection import train_test_split\n",
    "from sklearn.preprocessing import OrdinalEncoder, OneHotEncoder\n",
    "from sklearn.preprocessing import MinMaxScaler, StandardScaler\n",
    "from sklearn.pipeline import Pipeline, make_pipeline\n",
    "from sklearn.compose import ColumnTransformer\n",
    "from sklearn.ensemble import RandomForestClassifier\n",
    "from sklearn.metrics import accuracy_score,classification_report, confusion_matrix\n",
    "from scipy.stats import reciprocal\n",
    "from sklearn.model_selection import RandomizedSearchCV\n",
    "import tensorflow as tf\n",
    "from tensorflow import keras\n",
    "from tensorflow.keras.models import Model, Sequential\n",
    "from tensorflow.keras.layers import Input,Dense, Activation\n",
    "import pickle\n",
    "import ast"
   ]
  },
  {
   "cell_type": "markdown",
   "metadata": {},
   "source": [
    "### 3. Load Dataset"
   ]
  },
  {
   "cell_type": "code",
   "execution_count": 143,
   "metadata": {},
   "outputs": [
    {
     "data": {
      "text/html": [
       "<div>\n",
       "<style scoped>\n",
       "    .dataframe tbody tr th:only-of-type {\n",
       "        vertical-align: middle;\n",
       "    }\n",
       "\n",
       "    .dataframe tbody tr th {\n",
       "        vertical-align: top;\n",
       "    }\n",
       "\n",
       "    .dataframe thead th {\n",
       "        text-align: right;\n",
       "    }\n",
       "</style>\n",
       "<table border=\"1\" class=\"dataframe\">\n",
       "  <thead>\n",
       "    <tr style=\"text-align: right;\">\n",
       "      <th></th>\n",
       "      <th>customerID</th>\n",
       "      <th>gender</th>\n",
       "      <th>SeniorCitizen</th>\n",
       "      <th>Partner</th>\n",
       "      <th>Dependents</th>\n",
       "      <th>tenure</th>\n",
       "      <th>PhoneService</th>\n",
       "      <th>MultipleLines</th>\n",
       "      <th>InternetService</th>\n",
       "      <th>OnlineSecurity</th>\n",
       "      <th>...</th>\n",
       "      <th>DeviceProtection</th>\n",
       "      <th>TechSupport</th>\n",
       "      <th>StreamingTV</th>\n",
       "      <th>StreamingMovies</th>\n",
       "      <th>Contract</th>\n",
       "      <th>PaperlessBilling</th>\n",
       "      <th>PaymentMethod</th>\n",
       "      <th>MonthlyCharges</th>\n",
       "      <th>TotalCharges</th>\n",
       "      <th>Churn</th>\n",
       "    </tr>\n",
       "  </thead>\n",
       "  <tbody>\n",
       "    <tr>\n",
       "      <th>0</th>\n",
       "      <td>7590-VHVEG</td>\n",
       "      <td>Female</td>\n",
       "      <td>0</td>\n",
       "      <td>Yes</td>\n",
       "      <td>No</td>\n",
       "      <td>1</td>\n",
       "      <td>No</td>\n",
       "      <td>No phone service</td>\n",
       "      <td>DSL</td>\n",
       "      <td>No</td>\n",
       "      <td>...</td>\n",
       "      <td>No</td>\n",
       "      <td>No</td>\n",
       "      <td>No</td>\n",
       "      <td>No</td>\n",
       "      <td>Month-to-month</td>\n",
       "      <td>Yes</td>\n",
       "      <td>Electronic check</td>\n",
       "      <td>29.85</td>\n",
       "      <td>29.85</td>\n",
       "      <td>No</td>\n",
       "    </tr>\n",
       "    <tr>\n",
       "      <th>1</th>\n",
       "      <td>5575-GNVDE</td>\n",
       "      <td>Male</td>\n",
       "      <td>0</td>\n",
       "      <td>No</td>\n",
       "      <td>No</td>\n",
       "      <td>34</td>\n",
       "      <td>Yes</td>\n",
       "      <td>No</td>\n",
       "      <td>DSL</td>\n",
       "      <td>Yes</td>\n",
       "      <td>...</td>\n",
       "      <td>Yes</td>\n",
       "      <td>No</td>\n",
       "      <td>No</td>\n",
       "      <td>No</td>\n",
       "      <td>One year</td>\n",
       "      <td>No</td>\n",
       "      <td>Mailed check</td>\n",
       "      <td>56.95</td>\n",
       "      <td>1889.5</td>\n",
       "      <td>No</td>\n",
       "    </tr>\n",
       "    <tr>\n",
       "      <th>2</th>\n",
       "      <td>3668-QPYBK</td>\n",
       "      <td>Male</td>\n",
       "      <td>0</td>\n",
       "      <td>No</td>\n",
       "      <td>No</td>\n",
       "      <td>2</td>\n",
       "      <td>Yes</td>\n",
       "      <td>No</td>\n",
       "      <td>DSL</td>\n",
       "      <td>Yes</td>\n",
       "      <td>...</td>\n",
       "      <td>No</td>\n",
       "      <td>No</td>\n",
       "      <td>No</td>\n",
       "      <td>No</td>\n",
       "      <td>Month-to-month</td>\n",
       "      <td>Yes</td>\n",
       "      <td>Mailed check</td>\n",
       "      <td>53.85</td>\n",
       "      <td>108.15</td>\n",
       "      <td>Yes</td>\n",
       "    </tr>\n",
       "    <tr>\n",
       "      <th>3</th>\n",
       "      <td>7795-CFOCW</td>\n",
       "      <td>Male</td>\n",
       "      <td>0</td>\n",
       "      <td>No</td>\n",
       "      <td>No</td>\n",
       "      <td>45</td>\n",
       "      <td>No</td>\n",
       "      <td>No phone service</td>\n",
       "      <td>DSL</td>\n",
       "      <td>Yes</td>\n",
       "      <td>...</td>\n",
       "      <td>Yes</td>\n",
       "      <td>Yes</td>\n",
       "      <td>No</td>\n",
       "      <td>No</td>\n",
       "      <td>One year</td>\n",
       "      <td>No</td>\n",
       "      <td>Bank transfer (automatic)</td>\n",
       "      <td>42.30</td>\n",
       "      <td>1840.75</td>\n",
       "      <td>No</td>\n",
       "    </tr>\n",
       "    <tr>\n",
       "      <th>4</th>\n",
       "      <td>9237-HQITU</td>\n",
       "      <td>Female</td>\n",
       "      <td>0</td>\n",
       "      <td>No</td>\n",
       "      <td>No</td>\n",
       "      <td>2</td>\n",
       "      <td>Yes</td>\n",
       "      <td>No</td>\n",
       "      <td>Fiber optic</td>\n",
       "      <td>No</td>\n",
       "      <td>...</td>\n",
       "      <td>No</td>\n",
       "      <td>No</td>\n",
       "      <td>No</td>\n",
       "      <td>No</td>\n",
       "      <td>Month-to-month</td>\n",
       "      <td>Yes</td>\n",
       "      <td>Electronic check</td>\n",
       "      <td>70.70</td>\n",
       "      <td>151.65</td>\n",
       "      <td>Yes</td>\n",
       "    </tr>\n",
       "    <tr>\n",
       "      <th>...</th>\n",
       "      <td>...</td>\n",
       "      <td>...</td>\n",
       "      <td>...</td>\n",
       "      <td>...</td>\n",
       "      <td>...</td>\n",
       "      <td>...</td>\n",
       "      <td>...</td>\n",
       "      <td>...</td>\n",
       "      <td>...</td>\n",
       "      <td>...</td>\n",
       "      <td>...</td>\n",
       "      <td>...</td>\n",
       "      <td>...</td>\n",
       "      <td>...</td>\n",
       "      <td>...</td>\n",
       "      <td>...</td>\n",
       "      <td>...</td>\n",
       "      <td>...</td>\n",
       "      <td>...</td>\n",
       "      <td>...</td>\n",
       "      <td>...</td>\n",
       "    </tr>\n",
       "    <tr>\n",
       "      <th>7038</th>\n",
       "      <td>6840-RESVB</td>\n",
       "      <td>Male</td>\n",
       "      <td>0</td>\n",
       "      <td>Yes</td>\n",
       "      <td>Yes</td>\n",
       "      <td>24</td>\n",
       "      <td>Yes</td>\n",
       "      <td>Yes</td>\n",
       "      <td>DSL</td>\n",
       "      <td>Yes</td>\n",
       "      <td>...</td>\n",
       "      <td>Yes</td>\n",
       "      <td>Yes</td>\n",
       "      <td>Yes</td>\n",
       "      <td>Yes</td>\n",
       "      <td>One year</td>\n",
       "      <td>Yes</td>\n",
       "      <td>Mailed check</td>\n",
       "      <td>84.80</td>\n",
       "      <td>1990.5</td>\n",
       "      <td>No</td>\n",
       "    </tr>\n",
       "    <tr>\n",
       "      <th>7039</th>\n",
       "      <td>2234-XADUH</td>\n",
       "      <td>Female</td>\n",
       "      <td>0</td>\n",
       "      <td>Yes</td>\n",
       "      <td>Yes</td>\n",
       "      <td>72</td>\n",
       "      <td>Yes</td>\n",
       "      <td>Yes</td>\n",
       "      <td>Fiber optic</td>\n",
       "      <td>No</td>\n",
       "      <td>...</td>\n",
       "      <td>Yes</td>\n",
       "      <td>No</td>\n",
       "      <td>Yes</td>\n",
       "      <td>Yes</td>\n",
       "      <td>One year</td>\n",
       "      <td>Yes</td>\n",
       "      <td>Credit card (automatic)</td>\n",
       "      <td>103.20</td>\n",
       "      <td>7362.9</td>\n",
       "      <td>No</td>\n",
       "    </tr>\n",
       "    <tr>\n",
       "      <th>7040</th>\n",
       "      <td>4801-JZAZL</td>\n",
       "      <td>Female</td>\n",
       "      <td>0</td>\n",
       "      <td>Yes</td>\n",
       "      <td>Yes</td>\n",
       "      <td>11</td>\n",
       "      <td>No</td>\n",
       "      <td>No phone service</td>\n",
       "      <td>DSL</td>\n",
       "      <td>Yes</td>\n",
       "      <td>...</td>\n",
       "      <td>No</td>\n",
       "      <td>No</td>\n",
       "      <td>No</td>\n",
       "      <td>No</td>\n",
       "      <td>Month-to-month</td>\n",
       "      <td>Yes</td>\n",
       "      <td>Electronic check</td>\n",
       "      <td>29.60</td>\n",
       "      <td>346.45</td>\n",
       "      <td>No</td>\n",
       "    </tr>\n",
       "    <tr>\n",
       "      <th>7041</th>\n",
       "      <td>8361-LTMKD</td>\n",
       "      <td>Male</td>\n",
       "      <td>1</td>\n",
       "      <td>Yes</td>\n",
       "      <td>No</td>\n",
       "      <td>4</td>\n",
       "      <td>Yes</td>\n",
       "      <td>Yes</td>\n",
       "      <td>Fiber optic</td>\n",
       "      <td>No</td>\n",
       "      <td>...</td>\n",
       "      <td>No</td>\n",
       "      <td>No</td>\n",
       "      <td>No</td>\n",
       "      <td>No</td>\n",
       "      <td>Month-to-month</td>\n",
       "      <td>Yes</td>\n",
       "      <td>Mailed check</td>\n",
       "      <td>74.40</td>\n",
       "      <td>306.6</td>\n",
       "      <td>Yes</td>\n",
       "    </tr>\n",
       "    <tr>\n",
       "      <th>7042</th>\n",
       "      <td>3186-AJIEK</td>\n",
       "      <td>Male</td>\n",
       "      <td>0</td>\n",
       "      <td>No</td>\n",
       "      <td>No</td>\n",
       "      <td>66</td>\n",
       "      <td>Yes</td>\n",
       "      <td>No</td>\n",
       "      <td>Fiber optic</td>\n",
       "      <td>Yes</td>\n",
       "      <td>...</td>\n",
       "      <td>Yes</td>\n",
       "      <td>Yes</td>\n",
       "      <td>Yes</td>\n",
       "      <td>Yes</td>\n",
       "      <td>Two year</td>\n",
       "      <td>Yes</td>\n",
       "      <td>Bank transfer (automatic)</td>\n",
       "      <td>105.65</td>\n",
       "      <td>6844.5</td>\n",
       "      <td>No</td>\n",
       "    </tr>\n",
       "  </tbody>\n",
       "</table>\n",
       "<p>7043 rows × 21 columns</p>\n",
       "</div>"
      ],
      "text/plain": [
       "      customerID  gender  SeniorCitizen Partner Dependents  tenure  \\\n",
       "0     7590-VHVEG  Female              0     Yes         No       1   \n",
       "1     5575-GNVDE    Male              0      No         No      34   \n",
       "2     3668-QPYBK    Male              0      No         No       2   \n",
       "3     7795-CFOCW    Male              0      No         No      45   \n",
       "4     9237-HQITU  Female              0      No         No       2   \n",
       "...          ...     ...            ...     ...        ...     ...   \n",
       "7038  6840-RESVB    Male              0     Yes        Yes      24   \n",
       "7039  2234-XADUH  Female              0     Yes        Yes      72   \n",
       "7040  4801-JZAZL  Female              0     Yes        Yes      11   \n",
       "7041  8361-LTMKD    Male              1     Yes         No       4   \n",
       "7042  3186-AJIEK    Male              0      No         No      66   \n",
       "\n",
       "     PhoneService     MultipleLines InternetService OnlineSecurity  ...  \\\n",
       "0              No  No phone service             DSL             No  ...   \n",
       "1             Yes                No             DSL            Yes  ...   \n",
       "2             Yes                No             DSL            Yes  ...   \n",
       "3              No  No phone service             DSL            Yes  ...   \n",
       "4             Yes                No     Fiber optic             No  ...   \n",
       "...           ...               ...             ...            ...  ...   \n",
       "7038          Yes               Yes             DSL            Yes  ...   \n",
       "7039          Yes               Yes     Fiber optic             No  ...   \n",
       "7040           No  No phone service             DSL            Yes  ...   \n",
       "7041          Yes               Yes     Fiber optic             No  ...   \n",
       "7042          Yes                No     Fiber optic            Yes  ...   \n",
       "\n",
       "     DeviceProtection TechSupport StreamingTV StreamingMovies        Contract  \\\n",
       "0                  No          No          No              No  Month-to-month   \n",
       "1                 Yes          No          No              No        One year   \n",
       "2                  No          No          No              No  Month-to-month   \n",
       "3                 Yes         Yes          No              No        One year   \n",
       "4                  No          No          No              No  Month-to-month   \n",
       "...               ...         ...         ...             ...             ...   \n",
       "7038              Yes         Yes         Yes             Yes        One year   \n",
       "7039              Yes          No         Yes             Yes        One year   \n",
       "7040               No          No          No              No  Month-to-month   \n",
       "7041               No          No          No              No  Month-to-month   \n",
       "7042              Yes         Yes         Yes             Yes        Two year   \n",
       "\n",
       "     PaperlessBilling              PaymentMethod MonthlyCharges  TotalCharges  \\\n",
       "0                 Yes           Electronic check          29.85         29.85   \n",
       "1                  No               Mailed check          56.95        1889.5   \n",
       "2                 Yes               Mailed check          53.85        108.15   \n",
       "3                  No  Bank transfer (automatic)          42.30       1840.75   \n",
       "4                 Yes           Electronic check          70.70        151.65   \n",
       "...               ...                        ...            ...           ...   \n",
       "7038              Yes               Mailed check          84.80        1990.5   \n",
       "7039              Yes    Credit card (automatic)         103.20        7362.9   \n",
       "7040              Yes           Electronic check          29.60        346.45   \n",
       "7041              Yes               Mailed check          74.40         306.6   \n",
       "7042              Yes  Bank transfer (automatic)         105.65        6844.5   \n",
       "\n",
       "     Churn  \n",
       "0       No  \n",
       "1       No  \n",
       "2      Yes  \n",
       "3       No  \n",
       "4      Yes  \n",
       "...    ...  \n",
       "7038    No  \n",
       "7039    No  \n",
       "7040    No  \n",
       "7041   Yes  \n",
       "7042    No  \n",
       "\n",
       "[7043 rows x 21 columns]"
      ]
     },
     "execution_count": 143,
     "metadata": {},
     "output_type": "execute_result"
    }
   ],
   "source": [
    "df_ori = pd.read_csv(\"WA_Fn-UseC_-Telco-Customer-Churn.csv\")\n",
    "df_ori"
   ]
  },
  {
   "cell_type": "code",
   "execution_count": 144,
   "metadata": {},
   "outputs": [],
   "source": [
    "df = df_ori.copy() #make a copy from dataset"
   ]
  },
  {
   "cell_type": "code",
   "execution_count": 145,
   "metadata": {},
   "outputs": [
    {
     "data": {
      "text/plain": [
       "Electronic check             2365\n",
       "Mailed check                 1612\n",
       "Bank transfer (automatic)    1544\n",
       "Credit card (automatic)      1522\n",
       "Name: PaymentMethod, dtype: int64"
      ]
     },
     "execution_count": 145,
     "metadata": {},
     "output_type": "execute_result"
    }
   ],
   "source": [
    "df['PaymentMethod'].value_counts()"
   ]
  },
  {
   "cell_type": "code",
   "execution_count": 146,
   "metadata": {},
   "outputs": [
    {
     "name": "stdout",
     "output_type": "stream",
     "text": [
      "<class 'pandas.core.frame.DataFrame'>\n",
      "RangeIndex: 7043 entries, 0 to 7042\n",
      "Data columns (total 21 columns):\n",
      " #   Column            Non-Null Count  Dtype  \n",
      "---  ------            --------------  -----  \n",
      " 0   customerID        7043 non-null   object \n",
      " 1   gender            7043 non-null   object \n",
      " 2   SeniorCitizen     7043 non-null   int64  \n",
      " 3   Partner           7043 non-null   object \n",
      " 4   Dependents        7043 non-null   object \n",
      " 5   tenure            7043 non-null   int64  \n",
      " 6   PhoneService      7043 non-null   object \n",
      " 7   MultipleLines     7043 non-null   object \n",
      " 8   InternetService   7043 non-null   object \n",
      " 9   OnlineSecurity    7043 non-null   object \n",
      " 10  OnlineBackup      7043 non-null   object \n",
      " 11  DeviceProtection  7043 non-null   object \n",
      " 12  TechSupport       7043 non-null   object \n",
      " 13  StreamingTV       7043 non-null   object \n",
      " 14  StreamingMovies   7043 non-null   object \n",
      " 15  Contract          7043 non-null   object \n",
      " 16  PaperlessBilling  7043 non-null   object \n",
      " 17  PaymentMethod     7043 non-null   object \n",
      " 18  MonthlyCharges    7043 non-null   float64\n",
      " 19  TotalCharges      7043 non-null   object \n",
      " 20  Churn             7043 non-null   object \n",
      "dtypes: float64(1), int64(2), object(18)\n",
      "memory usage: 1.1+ MB\n"
     ]
    }
   ],
   "source": [
    "df.info()"
   ]
  },
  {
   "cell_type": "markdown",
   "metadata": {},
   "source": [
    "* Dari 7043 rows data dan 21 columns mayorutas columns bertype object dengan total 18 columns dan hanya 3 columns yang bertype numeric\n",
    "* Tidak ada missing value dalam dataset tersebut"
   ]
  },
  {
   "cell_type": "code",
   "execution_count": 147,
   "metadata": {},
   "outputs": [
    {
     "data": {
      "text/html": [
       "<div>\n",
       "<style scoped>\n",
       "    .dataframe tbody tr th:only-of-type {\n",
       "        vertical-align: middle;\n",
       "    }\n",
       "\n",
       "    .dataframe tbody tr th {\n",
       "        vertical-align: top;\n",
       "    }\n",
       "\n",
       "    .dataframe thead th {\n",
       "        text-align: right;\n",
       "    }\n",
       "</style>\n",
       "<table border=\"1\" class=\"dataframe\">\n",
       "  <thead>\n",
       "    <tr style=\"text-align: right;\">\n",
       "      <th></th>\n",
       "      <th>count</th>\n",
       "      <th>mean</th>\n",
       "      <th>std</th>\n",
       "      <th>min</th>\n",
       "      <th>25%</th>\n",
       "      <th>50%</th>\n",
       "      <th>75%</th>\n",
       "      <th>max</th>\n",
       "    </tr>\n",
       "  </thead>\n",
       "  <tbody>\n",
       "    <tr>\n",
       "      <th>SeniorCitizen</th>\n",
       "      <td>7043.0</td>\n",
       "      <td>0.162147</td>\n",
       "      <td>0.368612</td>\n",
       "      <td>0.00</td>\n",
       "      <td>0.0</td>\n",
       "      <td>0.00</td>\n",
       "      <td>0.00</td>\n",
       "      <td>1.00</td>\n",
       "    </tr>\n",
       "    <tr>\n",
       "      <th>tenure</th>\n",
       "      <td>7043.0</td>\n",
       "      <td>32.371149</td>\n",
       "      <td>24.559481</td>\n",
       "      <td>0.00</td>\n",
       "      <td>9.0</td>\n",
       "      <td>29.00</td>\n",
       "      <td>55.00</td>\n",
       "      <td>72.00</td>\n",
       "    </tr>\n",
       "    <tr>\n",
       "      <th>MonthlyCharges</th>\n",
       "      <td>7043.0</td>\n",
       "      <td>64.761692</td>\n",
       "      <td>30.090047</td>\n",
       "      <td>18.25</td>\n",
       "      <td>35.5</td>\n",
       "      <td>70.35</td>\n",
       "      <td>89.85</td>\n",
       "      <td>118.75</td>\n",
       "    </tr>\n",
       "  </tbody>\n",
       "</table>\n",
       "</div>"
      ],
      "text/plain": [
       "                 count       mean        std    min   25%    50%    75%  \\\n",
       "SeniorCitizen   7043.0   0.162147   0.368612   0.00   0.0   0.00   0.00   \n",
       "tenure          7043.0  32.371149  24.559481   0.00   9.0  29.00  55.00   \n",
       "MonthlyCharges  7043.0  64.761692  30.090047  18.25  35.5  70.35  89.85   \n",
       "\n",
       "                   max  \n",
       "SeniorCitizen     1.00  \n",
       "tenure           72.00  \n",
       "MonthlyCharges  118.75  "
      ]
     },
     "execution_count": 147,
     "metadata": {},
     "output_type": "execute_result"
    }
   ],
   "source": [
    "df.describe().T"
   ]
  },
  {
   "cell_type": "markdown",
   "metadata": {},
   "source": [
    "### 4. Exploratory Data Analysis (EDA)"
   ]
  },
  {
   "cell_type": "code",
   "execution_count": 148,
   "metadata": {},
   "outputs": [
    {
     "name": "stderr",
     "output_type": "stream",
     "text": [
      "c:\\Users\\Fuad\\anaconda3\\lib\\site-packages\\seaborn\\_decorators.py:36: FutureWarning: Pass the following variable as a keyword arg: x. From version 0.12, the only valid positional argument will be `data`, and passing other arguments without an explicit keyword will result in an error or misinterpretation.\n",
      "  warnings.warn(\n",
      "c:\\Users\\Fuad\\anaconda3\\lib\\site-packages\\seaborn\\_decorators.py:36: FutureWarning: Pass the following variable as a keyword arg: x. From version 0.12, the only valid positional argument will be `data`, and passing other arguments without an explicit keyword will result in an error or misinterpretation.\n",
      "  warnings.warn(\n",
      "c:\\Users\\Fuad\\anaconda3\\lib\\site-packages\\seaborn\\_decorators.py:36: FutureWarning: Pass the following variable as a keyword arg: x. From version 0.12, the only valid positional argument will be `data`, and passing other arguments without an explicit keyword will result in an error or misinterpretation.\n",
      "  warnings.warn(\n"
     ]
    },
    {
     "data": {
      "text/plain": [
       "<function matplotlib.pyplot.show(close=None, block=None)>"
      ]
     },
     "execution_count": 148,
     "metadata": {},
     "output_type": "execute_result"
    },
    {
     "data": {
      "image/png": "[encoded data removed]",
      "text/plain": [
       "<Figure size 1800x504 with 3 Axes>"
      ]
     },
     "metadata": {
      "needs_background": "light"
     },
     "output_type": "display_data"
    }
   ],
   "source": [
    "plt.figure(figsize=(25,7))\n",
    "\n",
    "#looking for the busiest hours\n",
    "plt.subplot(1,3,1)\n",
    "sns.countplot(\"gender\", hue = \"Churn\", data = df)\n",
    "plt.title(\"Histogram of Gender\")\n",
    "\n",
    "#looking for the busiest days\n",
    "plt.subplot(1,3,2)\n",
    "sns.countplot(\"Partner\", hue = \"Churn\", data = df)\n",
    "plt.title(\"Histogram of Partner\")\n",
    "\n",
    "#looking for the busiest months\n",
    "plt.subplot(1,3,3)\n",
    "sns.countplot(\"Dependents\", hue = \"Churn\", data = df)\n",
    "plt.title(\"Histogram of Dependents\")\n",
    "\n",
    "plt.show"
   ]
  },
  {
   "cell_type": "markdown",
   "metadata": {},
   "source": [
    "* Perbandingan customer male and female tidak jauh berbeda begitu pula antara churn dengan no churn\n",
    "* Customers yang tidak memiliki partner lebih banyak yang churn dibandingkan yang sudah memiliki partner, hal ini bisa mungkin dikarenakan customer yang masih lajang masih sedikit labil dan ingin mencoba berbagai layanan dari perusahaan lain.\n",
    "* Customers yang hidup sendiri (no dependents) memiliki churn rate yang lebih tinggi dibandingkan dengan customer yang hidup tidak sendiri (have dependents)"
   ]
  },
  {
   "cell_type": "code",
   "execution_count": 149,
   "metadata": {},
   "outputs": [
    {
     "data": {
      "text/plain": [
       "([<matplotlib.patches.Wedge at 0x2576d5e1c70>,\n",
       "  <matplotlib.patches.Wedge at 0x2575db14340>,\n",
       "  <matplotlib.patches.Wedge at 0x2575db14a60>],\n",
       " [Text(0.21138010801255863, 1.0794991662509976, 'No'),\n",
       "  Text(-0.8436292603186925, -0.7058963600516268, 'Yes'),\n",
       "  Text(0.8548554654106661, -0.6922587184409551, 'No internet service')],\n",
       " [Text(0.11529824073412287, 0.5888177270459987, '43.84%'),\n",
       "  Text(-0.46016141471928673, -0.38503437820997827, '34.49%'),\n",
       "  Text(0.46628479931490874, -0.37759566460415733, '21.67%')])"
      ]
     },
     "execution_count": 149,
     "metadata": {},
     "output_type": "execute_result"
    },
    {
     "data": {
      "image/png": "[encoded data removed]",
      "text/plain": [
       "<Figure size 432x288 with 1 Axes>"
      ]
     },
     "metadata": {},
     "output_type": "display_data"
    },
    {
     "data": {
      "image/png": "[encoded data removed]",
      "text/plain": [
       "<Figure size 432x288 with 1 Axes>"
      ]
     },
     "metadata": {},
     "output_type": "display_data"
    },
    {
     "data": {
      "image/png": "[encoded data removed]",
      "text/plain": [
       "<Figure size 432x288 with 1 Axes>"
      ]
     },
     "metadata": {},
     "output_type": "display_data"
    }
   ],
   "source": [
    "df_multi = df[\"MultipleLines\"].value_counts().rename_axis(\"MultipleLines\").reset_index(name=\"counts\")\n",
    "multi_labels = df_multi.MultipleLines\n",
    "multi_values = df_multi.counts\n",
    "\n",
    "df_security = df[\"OnlineSecurity\"].value_counts().rename_axis(\"OnlineSecurity\").reset_index(name=\"counts\")\n",
    "security_labels = df_security.OnlineSecurity\n",
    "security_values = df_security.counts\n",
    "\n",
    "df_online = df[\"OnlineBackup\"].value_counts().rename_axis(\"OnlineBackup\").reset_index(name=\"counts\")\n",
    "online_labels = df_online.OnlineBackup\n",
    "online_values = df_online.counts\n",
    "\n",
    "fig = plt.figure()\n",
    "ax = fig.add_axes([0,0,1,1])\n",
    "ax.axis(\"equal\")\n",
    "ax.pie(multi_values, labels=multi_labels, autopct='%1.2f%%')\n",
    "\n",
    "fig = plt.figure()\n",
    "ax = fig.add_axes([0,0,1,1])\n",
    "ax.axis(\"equal\")\n",
    "ax.pie(security_values, labels=security_labels, autopct='%1.2f%%')\n",
    "\n",
    "fig = plt.figure()\n",
    "ax = fig.add_axes([0,0,1,1])\n",
    "ax.axis(\"equal\")\n",
    "ax.pie(online_values, labels=online_labels, autopct='%1.2f%%')"
   ]
  },
  {
   "cell_type": "markdown",
   "metadata": {},
   "source": [
    "* Pada chart pie multiplelines, perbandingan antara customer yang menggunakan fasilitas ini hanya dengan satu telepon dibandingkan dengan beberapa telepon tidak lah terlalu jauh 48% berbanding 42%\n",
    "* Pada chart pie online security, lebih banyak customer yang tidak menggunakan fasilitas ini, perbandingan jumlah nya hampir 2 kali lipat\n",
    "* Pada chart online backup, hampir sama dengan online security, mayoritas customer tidak menggunakan fasilitas ini untuk saluran teleponnya"
   ]
  },
  {
   "cell_type": "code",
   "execution_count": 150,
   "metadata": {},
   "outputs": [
    {
     "data": {
      "text/plain": [
       "<matplotlib.lines.Line2D at 0x2576e0a3b50>"
      ]
     },
     "execution_count": 150,
     "metadata": {},
     "output_type": "execute_result"
    },
    {
     "data": {
      "image/png": "[encoded data removed]",
      "text/plain": [
       "<Figure size 1800x576 with 3 Axes>"
      ]
     },
     "metadata": {
      "needs_background": "light"
     },
     "output_type": "display_data"
    }
   ],
   "source": [
    "dfsc = df[\"SeniorCitizen\"]\n",
    "dftenure = df['tenure']\n",
    "dfmonth = df['MonthlyCharges']\n",
    "\n",
    "plt.figure(figsize=(25,8))\n",
    "plt.subplot(1,3,1)\n",
    "dfsc.plot.hist(title=\"age distribution\", color=\"lightblue\", bins=25)\n",
    "plt.axvline(dfsc.mean(), color=\"blue\", linestyle=\"dashed\", linewidth=2)\n",
    "plt.axvline(dfsc.median(), color=\"green\", linestyle=\"dashed\", linewidth=2)\n",
    "\n",
    "plt.subplot(1,3,2)\n",
    "dftenure.plot.hist(title=\"creatinine phospokinase distribution\", color=\"lightblue\", bins=25)\n",
    "plt.axvline(dftenure.mean(), color=\"blue\", linestyle=\"dashed\", linewidth=2)\n",
    "plt.axvline(dftenure.median(), color=\"green\", linestyle=\"dashed\", linewidth=2)\n",
    "\n",
    "plt.subplot(1,3,3)\n",
    "dfmonth.plot.hist(title=\"ejection fraction distribution\", color=\"lightblue\", bins=25)\n",
    "plt.axvline(dfmonth.mean(), color=\"blue\", linestyle=\"dashed\", linewidth=2)\n",
    "plt.axvline(dfmonth.median(), color=\"green\", linestyle=\"dashed\", linewidth=2)"
   ]
  },
  {
   "cell_type": "markdown",
   "metadata": {},
   "source": [
    "* pada chart Senior citizen, lebih didominasi oleh kategori yang bukan senior atau masih muda\n",
    "* pada chart tenure, customer lebih banyak menggunakan product telepon selama range 0-10 dan 60-72, dengan rata-rata lama penggunaan 32\n",
    "* customer terendah pada chart tenure berada pada range 40-50\n",
    "* pada chart monthlycharges, customer lebih banyak mengeluarkan biaya pada range 20-30, dengan rata-rata pengeluaran sebesar 74\n",
    "* customer terendah pada chart monthly charges berada pada range 30-40 dan 110-120"
   ]
  },
  {
   "cell_type": "code",
   "execution_count": 151,
   "metadata": {},
   "outputs": [
    {
     "data": {
      "image/png": "[encoded data removed]",
      "text/plain": [
       "<Figure size 1800x432 with 3 Axes>"
      ]
     },
     "metadata": {
      "needs_background": "light"
     },
     "output_type": "display_data"
    }
   ],
   "source": [
    "grup1 = [\"SeniorCitizen\", \"tenure\", \"MonthlyCharges\"]\n",
    "fig1 = plt.figure(figsize=(25,6))\n",
    "axes = 130 #susunan chart\n",
    "for num in grup1:\n",
    "    axes += 1\n",
    "    fig1.add_subplot(axes) \n",
    "    sns.boxplot(data = df, x = num).set_title('%s - Boxplot' % num)\n",
    "plt.show()"
   ]
  },
  {
   "cell_type": "markdown",
   "metadata": {},
   "source": [
    "* Tidak terdapat outliers pada column numerical tenure\n",
    "* Pada column monthlycharges juga sama, tidak memiliki outliers pada columnsnya"
   ]
  },
  {
   "cell_type": "code",
   "execution_count": 152,
   "metadata": {},
   "outputs": [
    {
     "data": {
      "text/plain": [
       "<function matplotlib.pyplot.show(close=None, block=None)>"
      ]
     },
     "execution_count": 152,
     "metadata": {},
     "output_type": "execute_result"
    },
    {
     "data": {
      "image/png": "[encoded data removed]",
      "text/plain": [
       "<Figure size 1800x864 with 2 Axes>"
      ]
     },
     "metadata": {
      "needs_background": "light"
     },
     "output_type": "display_data"
    }
   ],
   "source": [
    "plt.figure(figsize=(25,12))\n",
    "plt.subplot(1,2,1)\n",
    "fig2 = sns.histplot(x=\"Contract\", hue=\"PaymentMethod\", data=df, multiple=\"stack\")\n",
    "plt.setp(fig2.get_xticklabels(), rotation=40)\n",
    "\n",
    "plt.subplot(1,2,2)\n",
    "fig3 = sns.histplot(x=\"InternetService\", hue=\"PaymentMethod\", data=df, multiple=\"stack\")\n",
    "plt.setp(fig3.get_xticklabels(), rotation=40)\n",
    "\n",
    "plt.show"
   ]
  },
  {
   "cell_type": "markdown",
   "metadata": {},
   "source": [
    "#### Contract Chart\n",
    "* month to month contract mendominasi dibandingkan kategori yang lain\n",
    "* electronic check mendominasi pada month to month saja, sedangkan kategori one year dan two year payment method credit card lebih dominan\n",
    "\n",
    "#### Internet Service\n",
    "* kategori fiber optic menjadi yang paling dominan dari kategori internet service yang lain\n",
    "* electronic check mendominasi pada kategori fiber optic."
   ]
  },
  {
   "cell_type": "markdown",
   "metadata": {},
   "source": [
    "### 5. Data Preprocessing"
   ]
  },
  {
   "cell_type": "markdown",
   "metadata": {},
   "source": [
    "Dikarenakan column total charges ada kesalahan yang dimana seharusnya column tersebut seharusnya float tetapi dataset membaca sebagai string, maka perlu dilakukan perubahan pada data tersebut"
   ]
  },
  {
   "cell_type": "code",
   "execution_count": 153,
   "metadata": {},
   "outputs": [],
   "source": [
    "df['TotalCharges'] = pd.to_numeric(df['TotalCharges'], errors='coerce')"
   ]
  },
  {
   "cell_type": "code",
   "execution_count": 154,
   "metadata": {},
   "outputs": [
    {
     "data": {
      "text/plain": [
       "customerID           0\n",
       "gender               0\n",
       "SeniorCitizen        0\n",
       "Partner              0\n",
       "Dependents           0\n",
       "tenure               0\n",
       "PhoneService         0\n",
       "MultipleLines        0\n",
       "InternetService      0\n",
       "OnlineSecurity       0\n",
       "OnlineBackup         0\n",
       "DeviceProtection     0\n",
       "TechSupport          0\n",
       "StreamingTV          0\n",
       "StreamingMovies      0\n",
       "Contract             0\n",
       "PaperlessBilling     0\n",
       "PaymentMethod        0\n",
       "MonthlyCharges       0\n",
       "TotalCharges        11\n",
       "Churn                0\n",
       "dtype: int64"
      ]
     },
     "execution_count": 154,
     "metadata": {},
     "output_type": "execute_result"
    }
   ],
   "source": [
    "df.isnull().sum()"
   ]
  },
  {
   "cell_type": "markdown",
   "metadata": {},
   "source": [
    "Setelah dicek missing values ternyata terdapat 11 missing values, dikarenakan jumlah nya yang sedikit maka saya akan melakukan drop pada rows nya"
   ]
  },
  {
   "cell_type": "code",
   "execution_count": 155,
   "metadata": {},
   "outputs": [],
   "source": [
    "df = df.dropna()"
   ]
  },
  {
   "cell_type": "markdown",
   "metadata": {},
   "source": [
    "Dikarenakan ada beberapa column yang berisi no internet service dan no phone service maka saya akan merubah value tersebut menjadi no untuk mengurangi cardinality"
   ]
  },
  {
   "cell_type": "code",
   "execution_count": 156,
   "metadata": {},
   "outputs": [
    {
     "data": {
      "text/plain": [
       "customerID          0\n",
       "gender              0\n",
       "SeniorCitizen       0\n",
       "Partner             0\n",
       "Dependents          0\n",
       "tenure              0\n",
       "PhoneService        0\n",
       "MultipleLines       0\n",
       "InternetService     0\n",
       "OnlineSecurity      0\n",
       "OnlineBackup        0\n",
       "DeviceProtection    0\n",
       "TechSupport         0\n",
       "StreamingTV         0\n",
       "StreamingMovies     0\n",
       "Contract            0\n",
       "PaperlessBilling    0\n",
       "PaymentMethod       0\n",
       "MonthlyCharges      0\n",
       "TotalCharges        0\n",
       "Churn               0\n",
       "dtype: int64"
      ]
     },
     "execution_count": 156,
     "metadata": {},
     "output_type": "execute_result"
    }
   ],
   "source": [
    "df.isnull().sum()"
   ]
  },
  {
   "cell_type": "code",
   "execution_count": 157,
   "metadata": {},
   "outputs": [],
   "source": [
    "df.replace('No internet service','No',inplace=True)\n",
    "df.replace('No phone service','No',inplace=True)"
   ]
  },
  {
   "cell_type": "code",
   "execution_count": 158,
   "metadata": {},
   "outputs": [],
   "source": [
    "df['Churn'].replace('No', 0, inplace=True)\n",
    "df['Churn'].replace('Yes', 1, inplace=True)"
   ]
  },
  {
   "cell_type": "code",
   "execution_count": 159,
   "metadata": {},
   "outputs": [
    {
     "data": {
      "text/html": [
       "<div>\n",
       "<style scoped>\n",
       "    .dataframe tbody tr th:only-of-type {\n",
       "        vertical-align: middle;\n",
       "    }\n",
       "\n",
       "    .dataframe tbody tr th {\n",
       "        vertical-align: top;\n",
       "    }\n",
       "\n",
       "    .dataframe thead th {\n",
       "        text-align: right;\n",
       "    }\n",
       "</style>\n",
       "<table border=\"1\" class=\"dataframe\">\n",
       "  <thead>\n",
       "    <tr style=\"text-align: right;\">\n",
       "      <th></th>\n",
       "      <th>customerID</th>\n",
       "      <th>gender</th>\n",
       "      <th>SeniorCitizen</th>\n",
       "      <th>Partner</th>\n",
       "      <th>Dependents</th>\n",
       "      <th>tenure</th>\n",
       "      <th>PhoneService</th>\n",
       "      <th>MultipleLines</th>\n",
       "      <th>InternetService</th>\n",
       "      <th>OnlineSecurity</th>\n",
       "      <th>...</th>\n",
       "      <th>DeviceProtection</th>\n",
       "      <th>TechSupport</th>\n",
       "      <th>StreamingTV</th>\n",
       "      <th>StreamingMovies</th>\n",
       "      <th>Contract</th>\n",
       "      <th>PaperlessBilling</th>\n",
       "      <th>PaymentMethod</th>\n",
       "      <th>MonthlyCharges</th>\n",
       "      <th>TotalCharges</th>\n",
       "      <th>Churn</th>\n",
       "    </tr>\n",
       "  </thead>\n",
       "  <tbody>\n",
       "    <tr>\n",
       "      <th>1778</th>\n",
       "      <td>6181-AXXYF</td>\n",
       "      <td>Male</td>\n",
       "      <td>0</td>\n",
       "      <td>Yes</td>\n",
       "      <td>Yes</td>\n",
       "      <td>72</td>\n",
       "      <td>Yes</td>\n",
       "      <td>Yes</td>\n",
       "      <td>No</td>\n",
       "      <td>No</td>\n",
       "      <td>...</td>\n",
       "      <td>No</td>\n",
       "      <td>No</td>\n",
       "      <td>No</td>\n",
       "      <td>No</td>\n",
       "      <td>Two year</td>\n",
       "      <td>No</td>\n",
       "      <td>Credit card (automatic)</td>\n",
       "      <td>24.75</td>\n",
       "      <td>1859.10</td>\n",
       "      <td>0</td>\n",
       "    </tr>\n",
       "    <tr>\n",
       "      <th>5036</th>\n",
       "      <td>1268-ASBGA</td>\n",
       "      <td>Female</td>\n",
       "      <td>1</td>\n",
       "      <td>Yes</td>\n",
       "      <td>No</td>\n",
       "      <td>16</td>\n",
       "      <td>Yes</td>\n",
       "      <td>Yes</td>\n",
       "      <td>Fiber optic</td>\n",
       "      <td>No</td>\n",
       "      <td>...</td>\n",
       "      <td>No</td>\n",
       "      <td>No</td>\n",
       "      <td>No</td>\n",
       "      <td>Yes</td>\n",
       "      <td>Month-to-month</td>\n",
       "      <td>Yes</td>\n",
       "      <td>Credit card (automatic)</td>\n",
       "      <td>85.35</td>\n",
       "      <td>1375.15</td>\n",
       "      <td>1</td>\n",
       "    </tr>\n",
       "    <tr>\n",
       "      <th>1106</th>\n",
       "      <td>4159-NAAIX</td>\n",
       "      <td>Female</td>\n",
       "      <td>0</td>\n",
       "      <td>No</td>\n",
       "      <td>No</td>\n",
       "      <td>63</td>\n",
       "      <td>Yes</td>\n",
       "      <td>Yes</td>\n",
       "      <td>Fiber optic</td>\n",
       "      <td>No</td>\n",
       "      <td>...</td>\n",
       "      <td>No</td>\n",
       "      <td>No</td>\n",
       "      <td>Yes</td>\n",
       "      <td>Yes</td>\n",
       "      <td>Two year</td>\n",
       "      <td>No</td>\n",
       "      <td>Bank transfer (automatic)</td>\n",
       "      <td>97.45</td>\n",
       "      <td>6253.00</td>\n",
       "      <td>0</td>\n",
       "    </tr>\n",
       "    <tr>\n",
       "      <th>1665</th>\n",
       "      <td>1219-NNDDO</td>\n",
       "      <td>Female</td>\n",
       "      <td>0</td>\n",
       "      <td>No</td>\n",
       "      <td>No</td>\n",
       "      <td>9</td>\n",
       "      <td>Yes</td>\n",
       "      <td>Yes</td>\n",
       "      <td>Fiber optic</td>\n",
       "      <td>No</td>\n",
       "      <td>...</td>\n",
       "      <td>No</td>\n",
       "      <td>No</td>\n",
       "      <td>No</td>\n",
       "      <td>No</td>\n",
       "      <td>Month-to-month</td>\n",
       "      <td>Yes</td>\n",
       "      <td>Electronic check</td>\n",
       "      <td>76.85</td>\n",
       "      <td>663.55</td>\n",
       "      <td>0</td>\n",
       "    </tr>\n",
       "    <tr>\n",
       "      <th>927</th>\n",
       "      <td>9625-QSTYE</td>\n",
       "      <td>Female</td>\n",
       "      <td>0</td>\n",
       "      <td>No</td>\n",
       "      <td>No</td>\n",
       "      <td>13</td>\n",
       "      <td>Yes</td>\n",
       "      <td>No</td>\n",
       "      <td>Fiber optic</td>\n",
       "      <td>No</td>\n",
       "      <td>...</td>\n",
       "      <td>Yes</td>\n",
       "      <td>No</td>\n",
       "      <td>No</td>\n",
       "      <td>No</td>\n",
       "      <td>Month-to-month</td>\n",
       "      <td>Yes</td>\n",
       "      <td>Electronic check</td>\n",
       "      <td>81.15</td>\n",
       "      <td>952.30</td>\n",
       "      <td>1</td>\n",
       "    </tr>\n",
       "  </tbody>\n",
       "</table>\n",
       "<p>5 rows × 21 columns</p>\n",
       "</div>"
      ],
      "text/plain": [
       "      customerID  gender  SeniorCitizen Partner Dependents  tenure  \\\n",
       "1778  6181-AXXYF    Male              0     Yes        Yes      72   \n",
       "5036  1268-ASBGA  Female              1     Yes         No      16   \n",
       "1106  4159-NAAIX  Female              0      No         No      63   \n",
       "1665  1219-NNDDO  Female              0      No         No       9   \n",
       "927   9625-QSTYE  Female              0      No         No      13   \n",
       "\n",
       "     PhoneService MultipleLines InternetService OnlineSecurity  ...  \\\n",
       "1778          Yes           Yes              No             No  ...   \n",
       "5036          Yes           Yes     Fiber optic             No  ...   \n",
       "1106          Yes           Yes     Fiber optic             No  ...   \n",
       "1665          Yes           Yes     Fiber optic             No  ...   \n",
       "927           Yes            No     Fiber optic             No  ...   \n",
       "\n",
       "     DeviceProtection TechSupport StreamingTV StreamingMovies        Contract  \\\n",
       "1778               No          No          No              No        Two year   \n",
       "5036               No          No          No             Yes  Month-to-month   \n",
       "1106               No          No         Yes             Yes        Two year   \n",
       "1665               No          No          No              No  Month-to-month   \n",
       "927               Yes          No          No              No  Month-to-month   \n",
       "\n",
       "     PaperlessBilling              PaymentMethod MonthlyCharges  TotalCharges  \\\n",
       "1778               No    Credit card (automatic)          24.75       1859.10   \n",
       "5036              Yes    Credit card (automatic)          85.35       1375.15   \n",
       "1106               No  Bank transfer (automatic)          97.45       6253.00   \n",
       "1665              Yes           Electronic check          76.85        663.55   \n",
       "927               Yes           Electronic check          81.15        952.30   \n",
       "\n",
       "      Churn  \n",
       "1778      0  \n",
       "5036      1  \n",
       "1106      0  \n",
       "1665      0  \n",
       "927       1  \n",
       "\n",
       "[5 rows x 21 columns]"
      ]
     },
     "execution_count": 159,
     "metadata": {},
     "output_type": "execute_result"
    }
   ],
   "source": [
    "#get data for model inference\n",
    "df_inf = df.sample(10, random_state=1)\n",
    "df_inf.head()"
   ]
  },
  {
   "cell_type": "code",
   "execution_count": 160,
   "metadata": {},
   "outputs": [
    {
     "data": {
      "text/html": [
       "<div>\n",
       "<style scoped>\n",
       "    .dataframe tbody tr th:only-of-type {\n",
       "        vertical-align: middle;\n",
       "    }\n",
       "\n",
       "    .dataframe tbody tr th {\n",
       "        vertical-align: top;\n",
       "    }\n",
       "\n",
       "    .dataframe thead th {\n",
       "        text-align: right;\n",
       "    }\n",
       "</style>\n",
       "<table border=\"1\" class=\"dataframe\">\n",
       "  <thead>\n",
       "    <tr style=\"text-align: right;\">\n",
       "      <th></th>\n",
       "      <th>customerID</th>\n",
       "      <th>gender</th>\n",
       "      <th>SeniorCitizen</th>\n",
       "      <th>Partner</th>\n",
       "      <th>Dependents</th>\n",
       "      <th>tenure</th>\n",
       "      <th>PhoneService</th>\n",
       "      <th>MultipleLines</th>\n",
       "      <th>InternetService</th>\n",
       "      <th>OnlineSecurity</th>\n",
       "      <th>...</th>\n",
       "      <th>DeviceProtection</th>\n",
       "      <th>TechSupport</th>\n",
       "      <th>StreamingTV</th>\n",
       "      <th>StreamingMovies</th>\n",
       "      <th>Contract</th>\n",
       "      <th>PaperlessBilling</th>\n",
       "      <th>PaymentMethod</th>\n",
       "      <th>MonthlyCharges</th>\n",
       "      <th>TotalCharges</th>\n",
       "      <th>Churn</th>\n",
       "    </tr>\n",
       "  </thead>\n",
       "  <tbody>\n",
       "    <tr>\n",
       "      <th>0</th>\n",
       "      <td>7590-VHVEG</td>\n",
       "      <td>Female</td>\n",
       "      <td>0</td>\n",
       "      <td>Yes</td>\n",
       "      <td>No</td>\n",
       "      <td>1</td>\n",
       "      <td>No</td>\n",
       "      <td>No</td>\n",
       "      <td>DSL</td>\n",
       "      <td>No</td>\n",
       "      <td>...</td>\n",
       "      <td>No</td>\n",
       "      <td>No</td>\n",
       "      <td>No</td>\n",
       "      <td>No</td>\n",
       "      <td>Month-to-month</td>\n",
       "      <td>Yes</td>\n",
       "      <td>Electronic check</td>\n",
       "      <td>29.85</td>\n",
       "      <td>29.85</td>\n",
       "      <td>0</td>\n",
       "    </tr>\n",
       "    <tr>\n",
       "      <th>1</th>\n",
       "      <td>5575-GNVDE</td>\n",
       "      <td>Male</td>\n",
       "      <td>0</td>\n",
       "      <td>No</td>\n",
       "      <td>No</td>\n",
       "      <td>34</td>\n",
       "      <td>Yes</td>\n",
       "      <td>No</td>\n",
       "      <td>DSL</td>\n",
       "      <td>Yes</td>\n",
       "      <td>...</td>\n",
       "      <td>Yes</td>\n",
       "      <td>No</td>\n",
       "      <td>No</td>\n",
       "      <td>No</td>\n",
       "      <td>One year</td>\n",
       "      <td>No</td>\n",
       "      <td>Mailed check</td>\n",
       "      <td>56.95</td>\n",
       "      <td>1889.50</td>\n",
       "      <td>0</td>\n",
       "    </tr>\n",
       "    <tr>\n",
       "      <th>2</th>\n",
       "      <td>3668-QPYBK</td>\n",
       "      <td>Male</td>\n",
       "      <td>0</td>\n",
       "      <td>No</td>\n",
       "      <td>No</td>\n",
       "      <td>2</td>\n",
       "      <td>Yes</td>\n",
       "      <td>No</td>\n",
       "      <td>DSL</td>\n",
       "      <td>Yes</td>\n",
       "      <td>...</td>\n",
       "      <td>No</td>\n",
       "      <td>No</td>\n",
       "      <td>No</td>\n",
       "      <td>No</td>\n",
       "      <td>Month-to-month</td>\n",
       "      <td>Yes</td>\n",
       "      <td>Mailed check</td>\n",
       "      <td>53.85</td>\n",
       "      <td>108.15</td>\n",
       "      <td>1</td>\n",
       "    </tr>\n",
       "    <tr>\n",
       "      <th>3</th>\n",
       "      <td>7795-CFOCW</td>\n",
       "      <td>Male</td>\n",
       "      <td>0</td>\n",
       "      <td>No</td>\n",
       "      <td>No</td>\n",
       "      <td>45</td>\n",
       "      <td>No</td>\n",
       "      <td>No</td>\n",
       "      <td>DSL</td>\n",
       "      <td>Yes</td>\n",
       "      <td>...</td>\n",
       "      <td>Yes</td>\n",
       "      <td>Yes</td>\n",
       "      <td>No</td>\n",
       "      <td>No</td>\n",
       "      <td>One year</td>\n",
       "      <td>No</td>\n",
       "      <td>Bank transfer (automatic)</td>\n",
       "      <td>42.30</td>\n",
       "      <td>1840.75</td>\n",
       "      <td>0</td>\n",
       "    </tr>\n",
       "    <tr>\n",
       "      <th>4</th>\n",
       "      <td>9237-HQITU</td>\n",
       "      <td>Female</td>\n",
       "      <td>0</td>\n",
       "      <td>No</td>\n",
       "      <td>No</td>\n",
       "      <td>2</td>\n",
       "      <td>Yes</td>\n",
       "      <td>No</td>\n",
       "      <td>Fiber optic</td>\n",
       "      <td>No</td>\n",
       "      <td>...</td>\n",
       "      <td>No</td>\n",
       "      <td>No</td>\n",
       "      <td>No</td>\n",
       "      <td>No</td>\n",
       "      <td>Month-to-month</td>\n",
       "      <td>Yes</td>\n",
       "      <td>Electronic check</td>\n",
       "      <td>70.70</td>\n",
       "      <td>151.65</td>\n",
       "      <td>1</td>\n",
       "    </tr>\n",
       "  </tbody>\n",
       "</table>\n",
       "<p>5 rows × 21 columns</p>\n",
       "</div>"
      ],
      "text/plain": [
       "   customerID  gender  SeniorCitizen Partner Dependents  tenure PhoneService  \\\n",
       "0  7590-VHVEG  Female              0     Yes         No       1           No   \n",
       "1  5575-GNVDE    Male              0      No         No      34          Yes   \n",
       "2  3668-QPYBK    Male              0      No         No       2          Yes   \n",
       "3  7795-CFOCW    Male              0      No         No      45           No   \n",
       "4  9237-HQITU  Female              0      No         No       2          Yes   \n",
       "\n",
       "  MultipleLines InternetService OnlineSecurity  ... DeviceProtection  \\\n",
       "0            No             DSL             No  ...               No   \n",
       "1            No             DSL            Yes  ...              Yes   \n",
       "2            No             DSL            Yes  ...               No   \n",
       "3            No             DSL            Yes  ...              Yes   \n",
       "4            No     Fiber optic             No  ...               No   \n",
       "\n",
       "  TechSupport StreamingTV StreamingMovies        Contract PaperlessBilling  \\\n",
       "0          No          No              No  Month-to-month              Yes   \n",
       "1          No          No              No        One year               No   \n",
       "2          No          No              No  Month-to-month              Yes   \n",
       "3         Yes          No              No        One year               No   \n",
       "4          No          No              No  Month-to-month              Yes   \n",
       "\n",
       "               PaymentMethod MonthlyCharges  TotalCharges  Churn  \n",
       "0           Electronic check          29.85         29.85      0  \n",
       "1               Mailed check          56.95       1889.50      0  \n",
       "2               Mailed check          53.85        108.15      1  \n",
       "3  Bank transfer (automatic)          42.30       1840.75      0  \n",
       "4           Electronic check          70.70        151.65      1  \n",
       "\n",
       "[5 rows x 21 columns]"
      ]
     },
     "execution_count": 160,
     "metadata": {},
     "output_type": "execute_result"
    }
   ],
   "source": [
    "#remove inference-set from dataset\n",
    "df_train_test = df.drop(df_inf.index)\n",
    "df_train_test.head()"
   ]
  },
  {
   "cell_type": "code",
   "execution_count": 161,
   "metadata": {},
   "outputs": [
    {
     "data": {
      "text/html": [
       "<div>\n",
       "<style scoped>\n",
       "    .dataframe tbody tr th:only-of-type {\n",
       "        vertical-align: middle;\n",
       "    }\n",
       "\n",
       "    .dataframe tbody tr th {\n",
       "        vertical-align: top;\n",
       "    }\n",
       "\n",
       "    .dataframe thead th {\n",
       "        text-align: right;\n",
       "    }\n",
       "</style>\n",
       "<table border=\"1\" class=\"dataframe\">\n",
       "  <thead>\n",
       "    <tr style=\"text-align: right;\">\n",
       "      <th></th>\n",
       "      <th>customerID</th>\n",
       "      <th>gender</th>\n",
       "      <th>SeniorCitizen</th>\n",
       "      <th>Partner</th>\n",
       "      <th>Dependents</th>\n",
       "      <th>tenure</th>\n",
       "      <th>PhoneService</th>\n",
       "      <th>MultipleLines</th>\n",
       "      <th>InternetService</th>\n",
       "      <th>OnlineSecurity</th>\n",
       "      <th>...</th>\n",
       "      <th>DeviceProtection</th>\n",
       "      <th>TechSupport</th>\n",
       "      <th>StreamingTV</th>\n",
       "      <th>StreamingMovies</th>\n",
       "      <th>Contract</th>\n",
       "      <th>PaperlessBilling</th>\n",
       "      <th>PaymentMethod</th>\n",
       "      <th>MonthlyCharges</th>\n",
       "      <th>TotalCharges</th>\n",
       "      <th>Churn</th>\n",
       "    </tr>\n",
       "  </thead>\n",
       "  <tbody>\n",
       "    <tr>\n",
       "      <th>0</th>\n",
       "      <td>6181-AXXYF</td>\n",
       "      <td>Male</td>\n",
       "      <td>0</td>\n",
       "      <td>Yes</td>\n",
       "      <td>Yes</td>\n",
       "      <td>72</td>\n",
       "      <td>Yes</td>\n",
       "      <td>Yes</td>\n",
       "      <td>No</td>\n",
       "      <td>No</td>\n",
       "      <td>...</td>\n",
       "      <td>No</td>\n",
       "      <td>No</td>\n",
       "      <td>No</td>\n",
       "      <td>No</td>\n",
       "      <td>Two year</td>\n",
       "      <td>No</td>\n",
       "      <td>Credit card (automatic)</td>\n",
       "      <td>24.75</td>\n",
       "      <td>1859.10</td>\n",
       "      <td>0</td>\n",
       "    </tr>\n",
       "    <tr>\n",
       "      <th>1</th>\n",
       "      <td>1268-ASBGA</td>\n",
       "      <td>Female</td>\n",
       "      <td>1</td>\n",
       "      <td>Yes</td>\n",
       "      <td>No</td>\n",
       "      <td>16</td>\n",
       "      <td>Yes</td>\n",
       "      <td>Yes</td>\n",
       "      <td>Fiber optic</td>\n",
       "      <td>No</td>\n",
       "      <td>...</td>\n",
       "      <td>No</td>\n",
       "      <td>No</td>\n",
       "      <td>No</td>\n",
       "      <td>Yes</td>\n",
       "      <td>Month-to-month</td>\n",
       "      <td>Yes</td>\n",
       "      <td>Credit card (automatic)</td>\n",
       "      <td>85.35</td>\n",
       "      <td>1375.15</td>\n",
       "      <td>1</td>\n",
       "    </tr>\n",
       "    <tr>\n",
       "      <th>2</th>\n",
       "      <td>4159-NAAIX</td>\n",
       "      <td>Female</td>\n",
       "      <td>0</td>\n",
       "      <td>No</td>\n",
       "      <td>No</td>\n",
       "      <td>63</td>\n",
       "      <td>Yes</td>\n",
       "      <td>Yes</td>\n",
       "      <td>Fiber optic</td>\n",
       "      <td>No</td>\n",
       "      <td>...</td>\n",
       "      <td>No</td>\n",
       "      <td>No</td>\n",
       "      <td>Yes</td>\n",
       "      <td>Yes</td>\n",
       "      <td>Two year</td>\n",
       "      <td>No</td>\n",
       "      <td>Bank transfer (automatic)</td>\n",
       "      <td>97.45</td>\n",
       "      <td>6253.00</td>\n",
       "      <td>0</td>\n",
       "    </tr>\n",
       "    <tr>\n",
       "      <th>3</th>\n",
       "      <td>1219-NNDDO</td>\n",
       "      <td>Female</td>\n",
       "      <td>0</td>\n",
       "      <td>No</td>\n",
       "      <td>No</td>\n",
       "      <td>9</td>\n",
       "      <td>Yes</td>\n",
       "      <td>Yes</td>\n",
       "      <td>Fiber optic</td>\n",
       "      <td>No</td>\n",
       "      <td>...</td>\n",
       "      <td>No</td>\n",
       "      <td>No</td>\n",
       "      <td>No</td>\n",
       "      <td>No</td>\n",
       "      <td>Month-to-month</td>\n",
       "      <td>Yes</td>\n",
       "      <td>Electronic check</td>\n",
       "      <td>76.85</td>\n",
       "      <td>663.55</td>\n",
       "      <td>0</td>\n",
       "    </tr>\n",
       "    <tr>\n",
       "      <th>4</th>\n",
       "      <td>9625-QSTYE</td>\n",
       "      <td>Female</td>\n",
       "      <td>0</td>\n",
       "      <td>No</td>\n",
       "      <td>No</td>\n",
       "      <td>13</td>\n",
       "      <td>Yes</td>\n",
       "      <td>No</td>\n",
       "      <td>Fiber optic</td>\n",
       "      <td>No</td>\n",
       "      <td>...</td>\n",
       "      <td>Yes</td>\n",
       "      <td>No</td>\n",
       "      <td>No</td>\n",
       "      <td>No</td>\n",
       "      <td>Month-to-month</td>\n",
       "      <td>Yes</td>\n",
       "      <td>Electronic check</td>\n",
       "      <td>81.15</td>\n",
       "      <td>952.30</td>\n",
       "      <td>1</td>\n",
       "    </tr>\n",
       "  </tbody>\n",
       "</table>\n",
       "<p>5 rows × 21 columns</p>\n",
       "</div>"
      ],
      "text/plain": [
       "   customerID  gender  SeniorCitizen Partner Dependents  tenure PhoneService  \\\n",
       "0  6181-AXXYF    Male              0     Yes        Yes      72          Yes   \n",
       "1  1268-ASBGA  Female              1     Yes         No      16          Yes   \n",
       "2  4159-NAAIX  Female              0      No         No      63          Yes   \n",
       "3  1219-NNDDO  Female              0      No         No       9          Yes   \n",
       "4  9625-QSTYE  Female              0      No         No      13          Yes   \n",
       "\n",
       "  MultipleLines InternetService OnlineSecurity  ... DeviceProtection  \\\n",
       "0           Yes              No             No  ...               No   \n",
       "1           Yes     Fiber optic             No  ...               No   \n",
       "2           Yes     Fiber optic             No  ...               No   \n",
       "3           Yes     Fiber optic             No  ...               No   \n",
       "4            No     Fiber optic             No  ...              Yes   \n",
       "\n",
       "  TechSupport StreamingTV StreamingMovies        Contract PaperlessBilling  \\\n",
       "0          No          No              No        Two year               No   \n",
       "1          No          No             Yes  Month-to-month              Yes   \n",
       "2          No         Yes             Yes        Two year               No   \n",
       "3          No          No              No  Month-to-month              Yes   \n",
       "4          No          No              No  Month-to-month              Yes   \n",
       "\n",
       "               PaymentMethod MonthlyCharges  TotalCharges  Churn  \n",
       "0    Credit card (automatic)          24.75       1859.10      0  \n",
       "1    Credit card (automatic)          85.35       1375.15      1  \n",
       "2  Bank transfer (automatic)          97.45       6253.00      0  \n",
       "3           Electronic check          76.85        663.55      0  \n",
       "4           Electronic check          81.15        952.30      1  \n",
       "\n",
       "[5 rows x 21 columns]"
      ]
     },
     "execution_count": 161,
     "metadata": {},
     "output_type": "execute_result"
    }
   ],
   "source": [
    "#reset index to avoid error\n",
    "df_train_test.reset_index(drop=True, inplace=True)\n",
    "df_inf.reset_index(drop=True, inplace=True)\n",
    "df_inf.head()"
   ]
  },
  {
   "cell_type": "markdown",
   "metadata": {},
   "source": [
    "Selanjutnya kita akan drop customer ID dikarenakan column tersebut isi datanya merupakan unique value semua, dan customer ID hanyalah sebuah identitas dan tidak akan memiliki hubungan atau korelasi dengan target churn."
   ]
  },
  {
   "cell_type": "code",
   "execution_count": 162,
   "metadata": {},
   "outputs": [
    {
     "data": {
      "text/html": [
       "<div>\n",
       "<style scoped>\n",
       "    .dataframe tbody tr th:only-of-type {\n",
       "        vertical-align: middle;\n",
       "    }\n",
       "\n",
       "    .dataframe tbody tr th {\n",
       "        vertical-align: top;\n",
       "    }\n",
       "\n",
       "    .dataframe thead th {\n",
       "        text-align: right;\n",
       "    }\n",
       "</style>\n",
       "<table border=\"1\" class=\"dataframe\">\n",
       "  <thead>\n",
       "    <tr style=\"text-align: right;\">\n",
       "      <th></th>\n",
       "      <th>gender</th>\n",
       "      <th>SeniorCitizen</th>\n",
       "      <th>Partner</th>\n",
       "      <th>Dependents</th>\n",
       "      <th>tenure</th>\n",
       "      <th>PhoneService</th>\n",
       "      <th>MultipleLines</th>\n",
       "      <th>InternetService</th>\n",
       "      <th>OnlineSecurity</th>\n",
       "      <th>OnlineBackup</th>\n",
       "      <th>DeviceProtection</th>\n",
       "      <th>TechSupport</th>\n",
       "      <th>StreamingTV</th>\n",
       "      <th>StreamingMovies</th>\n",
       "      <th>Contract</th>\n",
       "      <th>PaperlessBilling</th>\n",
       "      <th>PaymentMethod</th>\n",
       "      <th>MonthlyCharges</th>\n",
       "      <th>TotalCharges</th>\n",
       "    </tr>\n",
       "  </thead>\n",
       "  <tbody>\n",
       "    <tr>\n",
       "      <th>0</th>\n",
       "      <td>Female</td>\n",
       "      <td>0</td>\n",
       "      <td>Yes</td>\n",
       "      <td>No</td>\n",
       "      <td>1</td>\n",
       "      <td>No</td>\n",
       "      <td>No</td>\n",
       "      <td>DSL</td>\n",
       "      <td>No</td>\n",
       "      <td>Yes</td>\n",
       "      <td>No</td>\n",
       "      <td>No</td>\n",
       "      <td>No</td>\n",
       "      <td>No</td>\n",
       "      <td>Month-to-month</td>\n",
       "      <td>Yes</td>\n",
       "      <td>Electronic check</td>\n",
       "      <td>29.85</td>\n",
       "      <td>29.85</td>\n",
       "    </tr>\n",
       "    <tr>\n",
       "      <th>1</th>\n",
       "      <td>Male</td>\n",
       "      <td>0</td>\n",
       "      <td>No</td>\n",
       "      <td>No</td>\n",
       "      <td>34</td>\n",
       "      <td>Yes</td>\n",
       "      <td>No</td>\n",
       "      <td>DSL</td>\n",
       "      <td>Yes</td>\n",
       "      <td>No</td>\n",
       "      <td>Yes</td>\n",
       "      <td>No</td>\n",
       "      <td>No</td>\n",
       "      <td>No</td>\n",
       "      <td>One year</td>\n",
       "      <td>No</td>\n",
       "      <td>Mailed check</td>\n",
       "      <td>56.95</td>\n",
       "      <td>1889.50</td>\n",
       "    </tr>\n",
       "    <tr>\n",
       "      <th>2</th>\n",
       "      <td>Male</td>\n",
       "      <td>0</td>\n",
       "      <td>No</td>\n",
       "      <td>No</td>\n",
       "      <td>2</td>\n",
       "      <td>Yes</td>\n",
       "      <td>No</td>\n",
       "      <td>DSL</td>\n",
       "      <td>Yes</td>\n",
       "      <td>Yes</td>\n",
       "      <td>No</td>\n",
       "      <td>No</td>\n",
       "      <td>No</td>\n",
       "      <td>No</td>\n",
       "      <td>Month-to-month</td>\n",
       "      <td>Yes</td>\n",
       "      <td>Mailed check</td>\n",
       "      <td>53.85</td>\n",
       "      <td>108.15</td>\n",
       "    </tr>\n",
       "    <tr>\n",
       "      <th>3</th>\n",
       "      <td>Male</td>\n",
       "      <td>0</td>\n",
       "      <td>No</td>\n",
       "      <td>No</td>\n",
       "      <td>45</td>\n",
       "      <td>No</td>\n",
       "      <td>No</td>\n",
       "      <td>DSL</td>\n",
       "      <td>Yes</td>\n",
       "      <td>No</td>\n",
       "      <td>Yes</td>\n",
       "      <td>Yes</td>\n",
       "      <td>No</td>\n",
       "      <td>No</td>\n",
       "      <td>One year</td>\n",
       "      <td>No</td>\n",
       "      <td>Bank transfer (automatic)</td>\n",
       "      <td>42.30</td>\n",
       "      <td>1840.75</td>\n",
       "    </tr>\n",
       "    <tr>\n",
       "      <th>4</th>\n",
       "      <td>Female</td>\n",
       "      <td>0</td>\n",
       "      <td>No</td>\n",
       "      <td>No</td>\n",
       "      <td>2</td>\n",
       "      <td>Yes</td>\n",
       "      <td>No</td>\n",
       "      <td>Fiber optic</td>\n",
       "      <td>No</td>\n",
       "      <td>No</td>\n",
       "      <td>No</td>\n",
       "      <td>No</td>\n",
       "      <td>No</td>\n",
       "      <td>No</td>\n",
       "      <td>Month-to-month</td>\n",
       "      <td>Yes</td>\n",
       "      <td>Electronic check</td>\n",
       "      <td>70.70</td>\n",
       "      <td>151.65</td>\n",
       "    </tr>\n",
       "  </tbody>\n",
       "</table>\n",
       "</div>"
      ],
      "text/plain": [
       "   gender  SeniorCitizen Partner Dependents  tenure PhoneService  \\\n",
       "0  Female              0     Yes         No       1           No   \n",
       "1    Male              0      No         No      34          Yes   \n",
       "2    Male              0      No         No       2          Yes   \n",
       "3    Male              0      No         No      45           No   \n",
       "4  Female              0      No         No       2          Yes   \n",
       "\n",
       "  MultipleLines InternetService OnlineSecurity OnlineBackup DeviceProtection  \\\n",
       "0            No             DSL             No          Yes               No   \n",
       "1            No             DSL            Yes           No              Yes   \n",
       "2            No             DSL            Yes          Yes               No   \n",
       "3            No             DSL            Yes           No              Yes   \n",
       "4            No     Fiber optic             No           No               No   \n",
       "\n",
       "  TechSupport StreamingTV StreamingMovies        Contract PaperlessBilling  \\\n",
       "0          No          No              No  Month-to-month              Yes   \n",
       "1          No          No              No        One year               No   \n",
       "2          No          No              No  Month-to-month              Yes   \n",
       "3         Yes          No              No        One year               No   \n",
       "4          No          No              No  Month-to-month              Yes   \n",
       "\n",
       "               PaymentMethod  MonthlyCharges  TotalCharges  \n",
       "0           Electronic check           29.85         29.85  \n",
       "1               Mailed check           56.95       1889.50  \n",
       "2               Mailed check           53.85        108.15  \n",
       "3  Bank transfer (automatic)           42.30       1840.75  \n",
       "4           Electronic check           70.70        151.65  "
      ]
     },
     "execution_count": 162,
     "metadata": {},
     "output_type": "execute_result"
    }
   ],
   "source": [
    "#splitting dataset between X (features) and y (target)\n",
    "\n",
    "X = df_train_test.drop([\"customerID\", \"Churn\"], axis = 1)\n",
    "y = df_train_test[\"Churn\"]\n",
    "X.head()"
   ]
  },
  {
   "cell_type": "code",
   "execution_count": 163,
   "metadata": {},
   "outputs": [
    {
     "name": "stdout",
     "output_type": "stream",
     "text": [
      "Train Size:  (4493, 19)\n",
      "Test Size:  (1405, 19)\n",
      "Val Size:  (1124, 19)\n",
      "Missing Value in X_train :  0\n",
      "Missing Value in X_test :  0\n",
      "Missing Value in X_val :  0\n",
      "Missing Value in y_train :  0\n",
      "Missing Value in y_yrain :  0\n",
      "Missing Value in y_val :  0\n"
     ]
    }
   ],
   "source": [
    "#memisahkan data train, val and test\n",
    "X_train_full, X_test, y_train_full, y_test = train_test_split(X, y, train_size=0.8, random_state=5)\n",
    "\n",
    "X_train, X_val, y_train, y_val = train_test_split(X_train_full, y_train_full, train_size=0.8, random_state=5)\n",
    "\n",
    "print(\"Train Size: \", X_train.shape)\n",
    "print(\"Test Size: \", X_test.shape)\n",
    "print(\"Val Size: \", X_val.shape)\n",
    "print(\"Missing Value in X_train : \", X_train.isnull().sum().sum())\n",
    "print(\"Missing Value in X_test : \", X_test.isnull().sum().sum())\n",
    "print(\"Missing Value in X_val : \", X_val.isnull().sum().sum())\n",
    "print(\"Missing Value in y_train : \", y_train.isnull().sum().sum())\n",
    "print(\"Missing Value in y_yrain : \", y_test.isnull().sum().sum())\n",
    "print(\"Missing Value in y_val : \", y_val.isnull().sum().sum())"
   ]
  },
  {
   "cell_type": "markdown",
   "metadata": {},
   "source": [
    "### Scaling & Encoding without Pipeline"
   ]
  },
  {
   "cell_type": "markdown",
   "metadata": {},
   "source": [
    "Disini saya akan melakukan feature scaling kepada numeric features untuk mendapatkan range angka yang sama pada tiap featuresnya, dan saya menggunakan mixmaxscaler karena minmaxscaler untuk data yang terdistribusi tidak normal"
   ]
  },
  {
   "cell_type": "code",
   "execution_count": 164,
   "metadata": {},
   "outputs": [
    {
     "name": "stdout",
     "output_type": "stream",
     "text": [
      "Numerical Columns:  ['SeniorCitizen', 'tenure', 'MonthlyCharges', 'TotalCharges']\n",
      "Categorical Columns:  ['gender', 'Partner', 'Dependents', 'PhoneService', 'MultipleLines', 'InternetService', 'OnlineSecurity', 'OnlineBackup', 'DeviceProtection', 'TechSupport', 'StreamingTV', 'StreamingMovies', 'Contract', 'PaperlessBilling', 'PaymentMethod']\n"
     ]
    }
   ],
   "source": [
    "#split between numerical columns and categorical columns\n",
    "num_columns = X_train.select_dtypes(include=np.number).columns.tolist()\n",
    "cat_columns = X_train.select_dtypes(include=[\"object\"]).columns.tolist()\n",
    "\n",
    "print(\"Numerical Columns: \", num_columns)\n",
    "print(\"Categorical Columns: \", cat_columns)"
   ]
  },
  {
   "cell_type": "code",
   "execution_count": 165,
   "metadata": {},
   "outputs": [],
   "source": [
    "#splitting train-set and test-set based on columns type\n",
    "X_train_num = X_train[num_columns]\n",
    "X_train_cat = X_train[cat_columns]\n",
    "\n",
    "X_test_num = X_test[num_columns]\n",
    "X_test_cat = X_test[cat_columns]\n",
    "\n",
    "#X_val_num = X_val[num_columns]\n",
    "#X_val_cat = X_val[cat_columns]"
   ]
  },
  {
   "cell_type": "code",
   "execution_count": 166,
   "metadata": {},
   "outputs": [],
   "source": [
    "#scaling menggunakan minmax scaler\n",
    "scaler = MinMaxScaler()\n",
    "scaler.fit(X_train_num)\n",
    "\n",
    "X_train_num_scaled = scaler.transform(X_train_num)\n",
    "X_test_num_scaled = scaler.transform(X_test_num)\n",
    "#X_val_num_scaled = scaler.transform(X_val_num)\n",
    "\n",
    "#X_train_num_scaled"
   ]
  },
  {
   "cell_type": "code",
   "execution_count": 167,
   "metadata": {},
   "outputs": [],
   "source": [
    "encoder = OrdinalEncoder()\n",
    "encoder.fit(X_train_cat)\n",
    "\n",
    "X_train_cat_encoded = encoder.transform(X_train_cat)\n",
    "X_test_cat_encoded = encoder.transform(X_test_cat)\n",
    "#X_val_cat_encoded = encoder.transform(X_val_cat)\n",
    "\n",
    "#X_train_cat_encoded"
   ]
  },
  {
   "cell_type": "code",
   "execution_count": 168,
   "metadata": {},
   "outputs": [],
   "source": [
    "#concate columns\n",
    "\n",
    "X_train_final2 = np.concatenate([X_train_num_scaled, X_train_cat_encoded], axis=1)\n",
    "X_test_final2 = np.concatenate([X_test_num_scaled, X_test_cat_encoded], axis=1)\n",
    "\n",
    "#X_train_final"
   ]
  },
  {
   "cell_type": "code",
   "execution_count": 169,
   "metadata": {},
   "outputs": [
    {
     "data": {
      "text/html": [
       "<div>\n",
       "<style scoped>\n",
       "    .dataframe tbody tr th:only-of-type {\n",
       "        vertical-align: middle;\n",
       "    }\n",
       "\n",
       "    .dataframe tbody tr th {\n",
       "        vertical-align: top;\n",
       "    }\n",
       "\n",
       "    .dataframe thead tr th {\n",
       "        text-align: left;\n",
       "    }\n",
       "</style>\n",
       "<table border=\"1\" class=\"dataframe\">\n",
       "  <thead>\n",
       "    <tr>\n",
       "      <th></th>\n",
       "      <th>SeniorCitizen</th>\n",
       "      <th>tenure</th>\n",
       "      <th>MonthlyCharges</th>\n",
       "      <th>TotalCharges</th>\n",
       "      <th>gender</th>\n",
       "      <th>Partner</th>\n",
       "      <th>Dependents</th>\n",
       "      <th>PhoneService</th>\n",
       "      <th>MultipleLines</th>\n",
       "      <th>InternetService</th>\n",
       "      <th>OnlineSecurity</th>\n",
       "      <th>OnlineBackup</th>\n",
       "      <th>DeviceProtection</th>\n",
       "      <th>TechSupport</th>\n",
       "      <th>StreamingTV</th>\n",
       "      <th>StreamingMovies</th>\n",
       "      <th>Contract</th>\n",
       "      <th>PaperlessBilling</th>\n",
       "      <th>PaymentMethod</th>\n",
       "    </tr>\n",
       "  </thead>\n",
       "  <tbody>\n",
       "    <tr>\n",
       "      <th>0</th>\n",
       "      <td>0.0</td>\n",
       "      <td>0.887324</td>\n",
       "      <td>0.012935</td>\n",
       "      <td>0.141137</td>\n",
       "      <td>1.0</td>\n",
       "      <td>0.0</td>\n",
       "      <td>0.0</td>\n",
       "      <td>1.0</td>\n",
       "      <td>0.0</td>\n",
       "      <td>2.0</td>\n",
       "      <td>0.0</td>\n",
       "      <td>0.0</td>\n",
       "      <td>0.0</td>\n",
       "      <td>0.0</td>\n",
       "      <td>0.0</td>\n",
       "      <td>0.0</td>\n",
       "      <td>2.0</td>\n",
       "      <td>0.0</td>\n",
       "      <td>3.0</td>\n",
       "    </tr>\n",
       "    <tr>\n",
       "      <th>1</th>\n",
       "      <td>0.0</td>\n",
       "      <td>0.000000</td>\n",
       "      <td>0.122388</td>\n",
       "      <td>0.001358</td>\n",
       "      <td>0.0</td>\n",
       "      <td>0.0</td>\n",
       "      <td>0.0</td>\n",
       "      <td>0.0</td>\n",
       "      <td>0.0</td>\n",
       "      <td>0.0</td>\n",
       "      <td>0.0</td>\n",
       "      <td>0.0</td>\n",
       "      <td>0.0</td>\n",
       "      <td>1.0</td>\n",
       "      <td>0.0</td>\n",
       "      <td>0.0</td>\n",
       "      <td>0.0</td>\n",
       "      <td>0.0</td>\n",
       "      <td>3.0</td>\n",
       "    </tr>\n",
       "    <tr>\n",
       "      <th>2</th>\n",
       "      <td>0.0</td>\n",
       "      <td>0.915493</td>\n",
       "      <td>0.905473</td>\n",
       "      <td>0.816268</td>\n",
       "      <td>0.0</td>\n",
       "      <td>1.0</td>\n",
       "      <td>1.0</td>\n",
       "      <td>1.0</td>\n",
       "      <td>1.0</td>\n",
       "      <td>1.0</td>\n",
       "      <td>1.0</td>\n",
       "      <td>1.0</td>\n",
       "      <td>1.0</td>\n",
       "      <td>0.0</td>\n",
       "      <td>1.0</td>\n",
       "      <td>1.0</td>\n",
       "      <td>2.0</td>\n",
       "      <td>0.0</td>\n",
       "      <td>0.0</td>\n",
       "    </tr>\n",
       "    <tr>\n",
       "      <th>3</th>\n",
       "      <td>1.0</td>\n",
       "      <td>0.140845</td>\n",
       "      <td>0.765174</td>\n",
       "      <td>0.113114</td>\n",
       "      <td>0.0</td>\n",
       "      <td>0.0</td>\n",
       "      <td>0.0</td>\n",
       "      <td>1.0</td>\n",
       "      <td>1.0</td>\n",
       "      <td>1.0</td>\n",
       "      <td>0.0</td>\n",
       "      <td>0.0</td>\n",
       "      <td>0.0</td>\n",
       "      <td>0.0</td>\n",
       "      <td>1.0</td>\n",
       "      <td>1.0</td>\n",
       "      <td>0.0</td>\n",
       "      <td>1.0</td>\n",
       "      <td>0.0</td>\n",
       "    </tr>\n",
       "    <tr>\n",
       "      <th>4</th>\n",
       "      <td>0.0</td>\n",
       "      <td>0.112676</td>\n",
       "      <td>0.258209</td>\n",
       "      <td>0.044438</td>\n",
       "      <td>0.0</td>\n",
       "      <td>0.0</td>\n",
       "      <td>0.0</td>\n",
       "      <td>1.0</td>\n",
       "      <td>0.0</td>\n",
       "      <td>0.0</td>\n",
       "      <td>0.0</td>\n",
       "      <td>0.0</td>\n",
       "      <td>0.0</td>\n",
       "      <td>0.0</td>\n",
       "      <td>0.0</td>\n",
       "      <td>0.0</td>\n",
       "      <td>0.0</td>\n",
       "      <td>1.0</td>\n",
       "      <td>0.0</td>\n",
       "    </tr>\n",
       "    <tr>\n",
       "      <th>...</th>\n",
       "      <td>...</td>\n",
       "      <td>...</td>\n",
       "      <td>...</td>\n",
       "      <td>...</td>\n",
       "      <td>...</td>\n",
       "      <td>...</td>\n",
       "      <td>...</td>\n",
       "      <td>...</td>\n",
       "      <td>...</td>\n",
       "      <td>...</td>\n",
       "      <td>...</td>\n",
       "      <td>...</td>\n",
       "      <td>...</td>\n",
       "      <td>...</td>\n",
       "      <td>...</td>\n",
       "      <td>...</td>\n",
       "      <td>...</td>\n",
       "      <td>...</td>\n",
       "      <td>...</td>\n",
       "    </tr>\n",
       "    <tr>\n",
       "      <th>4488</th>\n",
       "      <td>0.0</td>\n",
       "      <td>0.718310</td>\n",
       "      <td>0.654726</td>\n",
       "      <td>0.497825</td>\n",
       "      <td>0.0</td>\n",
       "      <td>1.0</td>\n",
       "      <td>1.0</td>\n",
       "      <td>1.0</td>\n",
       "      <td>0.0</td>\n",
       "      <td>1.0</td>\n",
       "      <td>1.0</td>\n",
       "      <td>0.0</td>\n",
       "      <td>1.0</td>\n",
       "      <td>1.0</td>\n",
       "      <td>0.0</td>\n",
       "      <td>0.0</td>\n",
       "      <td>0.0</td>\n",
       "      <td>1.0</td>\n",
       "      <td>0.0</td>\n",
       "    </tr>\n",
       "    <tr>\n",
       "      <th>4489</th>\n",
       "      <td>1.0</td>\n",
       "      <td>0.014085</td>\n",
       "      <td>0.263184</td>\n",
       "      <td>0.008655</td>\n",
       "      <td>1.0</td>\n",
       "      <td>0.0</td>\n",
       "      <td>0.0</td>\n",
       "      <td>1.0</td>\n",
       "      <td>0.0</td>\n",
       "      <td>0.0</td>\n",
       "      <td>0.0</td>\n",
       "      <td>0.0</td>\n",
       "      <td>0.0</td>\n",
       "      <td>0.0</td>\n",
       "      <td>0.0</td>\n",
       "      <td>0.0</td>\n",
       "      <td>0.0</td>\n",
       "      <td>1.0</td>\n",
       "      <td>2.0</td>\n",
       "    </tr>\n",
       "    <tr>\n",
       "      <th>4490</th>\n",
       "      <td>0.0</td>\n",
       "      <td>0.676056</td>\n",
       "      <td>0.607463</td>\n",
       "      <td>0.448788</td>\n",
       "      <td>0.0</td>\n",
       "      <td>1.0</td>\n",
       "      <td>1.0</td>\n",
       "      <td>1.0</td>\n",
       "      <td>1.0</td>\n",
       "      <td>0.0</td>\n",
       "      <td>0.0</td>\n",
       "      <td>1.0</td>\n",
       "      <td>0.0</td>\n",
       "      <td>1.0</td>\n",
       "      <td>1.0</td>\n",
       "      <td>1.0</td>\n",
       "      <td>2.0</td>\n",
       "      <td>0.0</td>\n",
       "      <td>0.0</td>\n",
       "    </tr>\n",
       "    <tr>\n",
       "      <th>4491</th>\n",
       "      <td>0.0</td>\n",
       "      <td>0.000000</td>\n",
       "      <td>0.015920</td>\n",
       "      <td>0.000121</td>\n",
       "      <td>1.0</td>\n",
       "      <td>1.0</td>\n",
       "      <td>1.0</td>\n",
       "      <td>1.0</td>\n",
       "      <td>0.0</td>\n",
       "      <td>2.0</td>\n",
       "      <td>0.0</td>\n",
       "      <td>0.0</td>\n",
       "      <td>0.0</td>\n",
       "      <td>0.0</td>\n",
       "      <td>0.0</td>\n",
       "      <td>0.0</td>\n",
       "      <td>1.0</td>\n",
       "      <td>0.0</td>\n",
       "      <td>1.0</td>\n",
       "    </tr>\n",
       "    <tr>\n",
       "      <th>4492</th>\n",
       "      <td>0.0</td>\n",
       "      <td>0.563380</td>\n",
       "      <td>0.017413</td>\n",
       "      <td>0.099496</td>\n",
       "      <td>1.0</td>\n",
       "      <td>1.0</td>\n",
       "      <td>1.0</td>\n",
       "      <td>1.0</td>\n",
       "      <td>0.0</td>\n",
       "      <td>2.0</td>\n",
       "      <td>0.0</td>\n",
       "      <td>0.0</td>\n",
       "      <td>0.0</td>\n",
       "      <td>0.0</td>\n",
       "      <td>0.0</td>\n",
       "      <td>0.0</td>\n",
       "      <td>2.0</td>\n",
       "      <td>1.0</td>\n",
       "      <td>3.0</td>\n",
       "    </tr>\n",
       "  </tbody>\n",
       "</table>\n",
       "<p>4493 rows × 19 columns</p>\n",
       "</div>"
      ],
      "text/plain": [
       "     SeniorCitizen    tenure MonthlyCharges TotalCharges gender Partner  \\\n",
       "0              0.0  0.887324       0.012935     0.141137    1.0     0.0   \n",
       "1              0.0  0.000000       0.122388     0.001358    0.0     0.0   \n",
       "2              0.0  0.915493       0.905473     0.816268    0.0     1.0   \n",
       "3              1.0  0.140845       0.765174     0.113114    0.0     0.0   \n",
       "4              0.0  0.112676       0.258209     0.044438    0.0     0.0   \n",
       "...            ...       ...            ...          ...    ...     ...   \n",
       "4488           0.0  0.718310       0.654726     0.497825    0.0     1.0   \n",
       "4489           1.0  0.014085       0.263184     0.008655    1.0     0.0   \n",
       "4490           0.0  0.676056       0.607463     0.448788    0.0     1.0   \n",
       "4491           0.0  0.000000       0.015920     0.000121    1.0     1.0   \n",
       "4492           0.0  0.563380       0.017413     0.099496    1.0     1.0   \n",
       "\n",
       "     Dependents PhoneService MultipleLines InternetService OnlineSecurity  \\\n",
       "0           0.0          1.0           0.0             2.0            0.0   \n",
       "1           0.0          0.0           0.0             0.0            0.0   \n",
       "2           1.0          1.0           1.0             1.0            1.0   \n",
       "3           0.0          1.0           1.0             1.0            0.0   \n",
       "4           0.0          1.0           0.0             0.0            0.0   \n",
       "...         ...          ...           ...             ...            ...   \n",
       "4488        1.0          1.0           0.0             1.0            1.0   \n",
       "4489        0.0          1.0           0.0             0.0            0.0   \n",
       "4490        1.0          1.0           1.0             0.0            0.0   \n",
       "4491        1.0          1.0           0.0             2.0            0.0   \n",
       "4492        1.0          1.0           0.0             2.0            0.0   \n",
       "\n",
       "     OnlineBackup DeviceProtection TechSupport StreamingTV StreamingMovies  \\\n",
       "0             0.0              0.0         0.0         0.0             0.0   \n",
       "1             0.0              0.0         1.0         0.0             0.0   \n",
       "2             1.0              1.0         0.0         1.0             1.0   \n",
       "3             0.0              0.0         0.0         1.0             1.0   \n",
       "4             0.0              0.0         0.0         0.0             0.0   \n",
       "...           ...              ...         ...         ...             ...   \n",
       "4488          0.0              1.0         1.0         0.0             0.0   \n",
       "4489          0.0              0.0         0.0         0.0             0.0   \n",
       "4490          1.0              0.0         1.0         1.0             1.0   \n",
       "4491          0.0              0.0         0.0         0.0             0.0   \n",
       "4492          0.0              0.0         0.0         0.0             0.0   \n",
       "\n",
       "     Contract PaperlessBilling PaymentMethod  \n",
       "0         2.0              0.0           3.0  \n",
       "1         0.0              0.0           3.0  \n",
       "2         2.0              0.0           0.0  \n",
       "3         0.0              1.0           0.0  \n",
       "4         0.0              1.0           0.0  \n",
       "...       ...              ...           ...  \n",
       "4488      0.0              1.0           0.0  \n",
       "4489      0.0              1.0           2.0  \n",
       "4490      2.0              0.0           0.0  \n",
       "4491      1.0              0.0           1.0  \n",
       "4492      2.0              1.0           3.0  \n",
       "\n",
       "[4493 rows x 19 columns]"
      ]
     },
     "execution_count": 169,
     "metadata": {},
     "output_type": "execute_result"
    }
   ],
   "source": [
    "#make new dataset agar rapi\n",
    "X_train_final_df= pd.DataFrame(X_train_final2, columns=[num_columns+cat_columns])\n",
    "X_train_final_df"
   ]
  },
  {
   "cell_type": "code",
   "execution_count": 170,
   "metadata": {},
   "outputs": [
    {
     "data": {
      "text/plain": [
       "array([0.02220902, 0.16284318, 0.19381514, 0.19371524, 0.02910061,\n",
       "       0.02337599, 0.02033722, 0.00622063, 0.02022438, 0.04550714,\n",
       "       0.02175734, 0.02154534, 0.01927109, 0.02174554, 0.01734494,\n",
       "       0.01832538, 0.0822062 , 0.02843342, 0.0520222 ])"
      ]
     },
     "execution_count": 170,
     "metadata": {},
     "output_type": "execute_result"
    }
   ],
   "source": [
    "model_rndm = RandomForestClassifier(random_state=3)\n",
    "model_rndm.fit(X_train_final2, y_train)\n",
    "model_rndm.feature_importances_"
   ]
  },
  {
   "cell_type": "markdown",
   "metadata": {},
   "source": [
    "Dari sini dapat diketahui bahwa features yang paling berpengaruh atau yang memiliki korelasi paling kuat adalah 'tenure', 'monthlycharges', 'totalcharges', 'internetservice', 'paymentmethod'"
   ]
  },
  {
   "cell_type": "markdown",
   "metadata": {},
   "source": [
    "### Scaling & Encoding with Pipeline and Input Pipeline Tensor"
   ]
  },
  {
   "cell_type": "code",
   "execution_count": 171,
   "metadata": {},
   "outputs": [
    {
     "name": "stdout",
     "output_type": "stream",
     "text": [
      "Numerical Columns:  ['tenure', 'MonthlyCharges', 'TotalCharges']\n",
      "Categorical Columns:  ['InternetService', 'PaymentMethod']\n"
     ]
    }
   ],
   "source": [
    "#split between numerical columns and categorical columns\n",
    "num_col = ['tenure', 'MonthlyCharges', 'TotalCharges']\n",
    "cat_col = ['InternetService', 'PaymentMethod']\n",
    "\n",
    "print(\"Numerical Columns: \", num_col)\n",
    "print(\"Categorical Columns: \", cat_col)"
   ]
  },
  {
   "cell_type": "code",
   "execution_count": 172,
   "metadata": {},
   "outputs": [],
   "source": [
    "num_pipeline = make_pipeline(MinMaxScaler()) #scaling numerical features\n",
    "cat_pipeline = make_pipeline(OneHotEncoder(handle_unknown='ignore')) #encode categorical features\n",
    "\n",
    "#merge scaling and encode\n",
    "prep_pipeline = ColumnTransformer([\n",
    "    ('pipe_num', num_pipeline, num_col),\n",
    "    ('pipe_cat', cat_pipeline, cat_col)])"
   ]
  },
  {
   "cell_type": "code",
   "execution_count": 173,
   "metadata": {},
   "outputs": [],
   "source": [
    "X_train_final = prep_pipeline.fit_transform(X_train)\n",
    "X_val_final = prep_pipeline.transform(X_val)\n",
    "X_test_final = prep_pipeline.transform(X_test)"
   ]
  },
  {
   "cell_type": "code",
   "execution_count": 174,
   "metadata": {},
   "outputs": [],
   "source": [
    "train_data = tf.data.Dataset.from_tensor_slices((X_train_final, y_train)).shuffle(10000).batch(30)\n",
    "val_data = tf.data.Dataset.from_tensor_slices((X_val_final, y_val)).shuffle(10000).batch(30)"
   ]
  },
  {
   "cell_type": "markdown",
   "metadata": {},
   "source": [
    "### 6. Model Definition Sequence API"
   ]
  },
  {
   "cell_type": "code",
   "execution_count": 175,
   "metadata": {},
   "outputs": [],
   "source": [
    "model_seq = keras.Sequential([\n",
    "        keras.layers.Dense(20, input_shape=(10,), activation='relu'),\n",
    "        keras.layers.Dense(2, activation='sigmoid')\n",
    "])"
   ]
  },
  {
   "cell_type": "code",
   "execution_count": 176,
   "metadata": {},
   "outputs": [],
   "source": [
    "model_seq.compile(optimizer = 'adam', loss='sparse_categorical_crossentropy', metrics = ['accuracy'])"
   ]
  },
  {
   "cell_type": "markdown",
   "metadata": {},
   "source": [
    "### 7. Model Training Sequence API"
   ]
  },
  {
   "cell_type": "code",
   "execution_count": 177,
   "metadata": {},
   "outputs": [
    {
     "name": "stdout",
     "output_type": "stream",
     "text": [
      "Epoch 1/30\n",
      "150/150 [==============================] - 0s 2ms/step - loss: 0.6107 - accuracy: 0.6664 - val_loss: 0.5237 - val_accuracy: 0.7536\n",
      "Epoch 2/30\n",
      "150/150 [==============================] - 0s 1ms/step - loss: 0.4812 - accuracy: 0.7881 - val_loss: 0.4826 - val_accuracy: 0.7625\n",
      "Epoch 3/30\n",
      "150/150 [==============================] - 0s 1ms/step - loss: 0.4515 - accuracy: 0.7921 - val_loss: 0.4602 - val_accuracy: 0.7740\n",
      "Epoch 4/30\n",
      "150/150 [==============================] - 0s 1ms/step - loss: 0.4390 - accuracy: 0.8017 - val_loss: 0.4530 - val_accuracy: 0.7811\n",
      "Epoch 5/30\n",
      "150/150 [==============================] - 0s 1ms/step - loss: 0.4345 - accuracy: 0.8026 - val_loss: 0.4496 - val_accuracy: 0.7838\n",
      "Epoch 6/30\n",
      "150/150 [==============================] - 0s 1ms/step - loss: 0.4328 - accuracy: 0.8053 - val_loss: 0.4476 - val_accuracy: 0.7785\n",
      "Epoch 7/30\n",
      "150/150 [==============================] - 0s 1ms/step - loss: 0.4312 - accuracy: 0.8039 - val_loss: 0.4469 - val_accuracy: 0.7829\n",
      "Epoch 8/30\n",
      "150/150 [==============================] - 0s 1ms/step - loss: 0.4303 - accuracy: 0.8006 - val_loss: 0.4461 - val_accuracy: 0.7785\n",
      "Epoch 9/30\n",
      "150/150 [==============================] - 0s 1ms/step - loss: 0.4294 - accuracy: 0.8017 - val_loss: 0.4464 - val_accuracy: 0.7802\n",
      "Epoch 10/30\n",
      "150/150 [==============================] - 0s 1ms/step - loss: 0.4289 - accuracy: 0.8030 - val_loss: 0.4446 - val_accuracy: 0.7767\n",
      "Epoch 11/30\n",
      "150/150 [==============================] - 0s 1ms/step - loss: 0.4287 - accuracy: 0.8035 - val_loss: 0.4462 - val_accuracy: 0.7785\n",
      "Epoch 12/30\n",
      "150/150 [==============================] - 0s 1ms/step - loss: 0.4286 - accuracy: 0.8032 - val_loss: 0.4443 - val_accuracy: 0.7767\n",
      "Epoch 13/30\n",
      "150/150 [==============================] - 0s 1ms/step - loss: 0.4276 - accuracy: 0.8021 - val_loss: 0.4439 - val_accuracy: 0.7776\n",
      "Epoch 14/30\n",
      "150/150 [==============================] - 0s 1ms/step - loss: 0.4276 - accuracy: 0.8048 - val_loss: 0.4435 - val_accuracy: 0.7767\n",
      "Epoch 15/30\n",
      "150/150 [==============================] - 0s 1ms/step - loss: 0.4272 - accuracy: 0.8035 - val_loss: 0.4446 - val_accuracy: 0.7811\n",
      "Epoch 16/30\n",
      "150/150 [==============================] - 0s 1ms/step - loss: 0.4271 - accuracy: 0.8015 - val_loss: 0.4435 - val_accuracy: 0.7749\n",
      "Epoch 17/30\n",
      "150/150 [==============================] - 0s 1ms/step - loss: 0.4272 - accuracy: 0.8012 - val_loss: 0.4430 - val_accuracy: 0.7767\n",
      "Epoch 18/30\n",
      "150/150 [==============================] - 0s 1ms/step - loss: 0.4265 - accuracy: 0.8026 - val_loss: 0.4443 - val_accuracy: 0.7758\n",
      "Epoch 19/30\n",
      "150/150 [==============================] - 0s 1ms/step - loss: 0.4263 - accuracy: 0.8035 - val_loss: 0.4423 - val_accuracy: 0.7758\n",
      "Epoch 20/30\n",
      "150/150 [==============================] - 0s 1ms/step - loss: 0.4260 - accuracy: 0.8026 - val_loss: 0.4421 - val_accuracy: 0.7794\n",
      "Epoch 21/30\n",
      "150/150 [==============================] - 0s 1ms/step - loss: 0.4258 - accuracy: 0.8035 - val_loss: 0.4445 - val_accuracy: 0.7776\n",
      "Epoch 22/30\n",
      "150/150 [==============================] - 0s 1ms/step - loss: 0.4257 - accuracy: 0.8028 - val_loss: 0.4419 - val_accuracy: 0.7767\n",
      "Epoch 23/30\n",
      "150/150 [==============================] - 0s 1ms/step - loss: 0.4249 - accuracy: 0.8035 - val_loss: 0.4425 - val_accuracy: 0.7802\n",
      "Epoch 24/30\n",
      "150/150 [==============================] - 0s 1ms/step - loss: 0.4249 - accuracy: 0.8039 - val_loss: 0.4425 - val_accuracy: 0.7749\n",
      "Epoch 25/30\n",
      "150/150 [==============================] - 0s 982us/step - loss: 0.4246 - accuracy: 0.8039 - val_loss: 0.4421 - val_accuracy: 0.7767\n",
      "Epoch 26/30\n",
      "150/150 [==============================] - 0s 1ms/step - loss: 0.4244 - accuracy: 0.8039 - val_loss: 0.4436 - val_accuracy: 0.7740\n",
      "Epoch 27/30\n",
      "150/150 [==============================] - 0s 1ms/step - loss: 0.4244 - accuracy: 0.8026 - val_loss: 0.4415 - val_accuracy: 0.7776\n",
      "Epoch 28/30\n",
      "150/150 [==============================] - 0s 1ms/step - loss: 0.4236 - accuracy: 0.8048 - val_loss: 0.4409 - val_accuracy: 0.7758\n",
      "Epoch 29/30\n",
      "150/150 [==============================] - 0s 1ms/step - loss: 0.4240 - accuracy: 0.8037 - val_loss: 0.4411 - val_accuracy: 0.7776\n",
      "Epoch 30/30\n",
      "150/150 [==============================] - 0s 1ms/step - loss: 0.4237 - accuracy: 0.8055 - val_loss: 0.4402 - val_accuracy: 0.7767\n"
     ]
    }
   ],
   "source": [
    "history_seq = model_seq.fit(train_data, epochs=30,\n",
    "                            validation_data=(val_data), verbose=1)"
   ]
  },
  {
   "cell_type": "markdown",
   "metadata": {},
   "source": [
    "### 8. Model Evaluation Sequence API"
   ]
  },
  {
   "cell_type": "code",
   "execution_count": 178,
   "metadata": {},
   "outputs": [
    {
     "data": {
      "text/plain": [
       "<matplotlib.legend.Legend at 0x2576fdb2040>"
      ]
     },
     "execution_count": 178,
     "metadata": {},
     "output_type": "execute_result"
    },
    {
     "data": {
      "image/png": "[encoded data removed]",
      "text/plain": [
       "<Figure size 432x288 with 1 Axes>"
      ]
     },
     "metadata": {
      "needs_background": "light"
     },
     "output_type": "display_data"
    }
   ],
   "source": [
    "fig, ax = plt.subplots()\n",
    "ax.plot(range(30),history_seq.history['loss'],label='train loss')\n",
    "ax.plot(range(30),history_seq.history['val_loss'],label='val loss')\n",
    "ax.set_xlabel('Epoch')\n",
    "ax.set_ylabel('Loss')\n",
    "plt.legend()"
   ]
  },
  {
   "cell_type": "markdown",
   "metadata": {},
   "source": [
    "Setelah dievaluasi hasil model menggunakan Sequence API dengan parameter standar mendapatkan hasil yang cukup goodfit dimana train_loss dengan val_loss tidak terlalu jauh"
   ]
  },
  {
   "cell_type": "code",
   "execution_count": 179,
   "metadata": {},
   "outputs": [
    {
     "data": {
      "text/plain": [
       "<matplotlib.legend.Legend at 0x2576fe1fe20>"
      ]
     },
     "execution_count": 179,
     "metadata": {},
     "output_type": "execute_result"
    },
    {
     "data": {
      "image/png": "[encoded data removed]",
      "text/plain": [
       "<Figure size 432x288 with 1 Axes>"
      ]
     },
     "metadata": {
      "needs_background": "light"
     },
     "output_type": "display_data"
    }
   ],
   "source": [
    "fig, ax = plt.subplots()\n",
    "ax.plot(range(30),history_seq.history['accuracy'],label='accuracy')\n",
    "ax.plot(range(30),history_seq.history['val_accuracy'],label='val accuracy')\n",
    "ax.set_xlabel('Epoch')\n",
    "ax.set_ylabel('Loss')\n",
    "plt.legend()"
   ]
  },
  {
   "cell_type": "markdown",
   "metadata": {},
   "source": [
    "Jika kita lihat pada grafik accuracy nya hasilnya tidak terlalu berbeda jauh hanya sebesar 0.2"
   ]
  },
  {
   "cell_type": "code",
   "execution_count": 180,
   "metadata": {},
   "outputs": [],
   "source": [
    "class_names = [\"No\", 'Yes']"
   ]
  },
  {
   "cell_type": "code",
   "execution_count": 181,
   "metadata": {},
   "outputs": [
    {
     "name": "stdout",
     "output_type": "stream",
     "text": [
      "44/44 [==============================] - 0s 704us/step - loss: 0.4445 - accuracy: 0.7900\n"
     ]
    },
    {
     "data": {
      "text/plain": [
       "[0.444542795419693, 0.790035605430603]"
      ]
     },
     "execution_count": 181,
     "metadata": {},
     "output_type": "execute_result"
    }
   ],
   "source": [
    "model_seq.evaluate(X_test_final, y_test)"
   ]
  },
  {
   "cell_type": "markdown",
   "metadata": {},
   "source": [
    "### 9. Predict Sequence API"
   ]
  },
  {
   "cell_type": "code",
   "execution_count": 182,
   "metadata": {},
   "outputs": [
    {
     "name": "stdout",
     "output_type": "stream",
     "text": [
      "1/1 [==============================] - 0s 30ms/step\n"
     ]
    },
    {
     "data": {
      "text/plain": [
       "array([[0.85, 0.54],\n",
       "       [0.97, 0.3 ],\n",
       "       [0.74, 0.63],\n",
       "       [0.53, 0.71],\n",
       "       [0.67, 0.64],\n",
       "       [0.5 , 0.73],\n",
       "       [0.68, 0.64],\n",
       "       [0.82, 0.48],\n",
       "       [0.86, 0.59],\n",
       "       [0.88, 0.57]], dtype=float32)"
      ]
     },
     "execution_count": 182,
     "metadata": {},
     "output_type": "execute_result"
    }
   ],
   "source": [
    "X_new_seq = X_test_final[:10]\n",
    "y_proba_seq = model_seq.predict(X_new_seq)\n",
    "y_proba_seq.round(2)"
   ]
  },
  {
   "cell_type": "code",
   "execution_count": 183,
   "metadata": {},
   "outputs": [
    {
     "name": "stdout",
     "output_type": "stream",
     "text": [
      "1/1 [==============================] - 0s 13ms/step\n"
     ]
    },
    {
     "data": {
      "text/plain": [
       "array([0, 0, 0, 1, 0, 1, 0, 0, 0, 0], dtype=int64)"
      ]
     },
     "execution_count": 183,
     "metadata": {},
     "output_type": "execute_result"
    }
   ],
   "source": [
    "y_pred_seq = np.argmax(model_seq.predict(X_new_seq), axis=-1)\n",
    "y_pred_seq"
   ]
  },
  {
   "cell_type": "markdown",
   "metadata": {},
   "source": [
    "Berdasarkan hasil probabilitas, banyak class 0 yang mendapatkan score lebih tinggi dibanding class 1"
   ]
  },
  {
   "cell_type": "code",
   "execution_count": 184,
   "metadata": {},
   "outputs": [
    {
     "data": {
      "text/plain": [
       "array(['No', 'No', 'No', 'Yes', 'No', 'Yes', 'No', 'No', 'No', 'No'],\n",
       "      dtype='<U3')"
      ]
     },
     "execution_count": 184,
     "metadata": {},
     "output_type": "execute_result"
    }
   ],
   "source": [
    "np.array(class_names)[y_pred_seq]"
   ]
  },
  {
   "cell_type": "code",
   "execution_count": 185,
   "metadata": {},
   "outputs": [
    {
     "data": {
      "text/plain": [
       "4381    1\n",
       "2446    0\n",
       "6582    1\n",
       "64      1\n",
       "4841    1\n",
       "5671    0\n",
       "1445    0\n",
       "3140    0\n",
       "5890    1\n",
       "1891    0\n",
       "Name: Churn, dtype: int64"
      ]
     },
     "execution_count": 185,
     "metadata": {},
     "output_type": "execute_result"
    }
   ],
   "source": [
    "y_new = y_test[:10]\n",
    "y_new"
   ]
  },
  {
   "cell_type": "markdown",
   "metadata": {},
   "source": [
    "Berdasarkan "
   ]
  },
  {
   "cell_type": "markdown",
   "metadata": {},
   "source": [
    "### 6. Model Definition Function API"
   ]
  },
  {
   "cell_type": "code",
   "execution_count": 186,
   "metadata": {},
   "outputs": [],
   "source": [
    "inputs = tf.keras.Input(shape=(10,), name=\"digits\")\n",
    "hidden_1 = tf.keras.layers.Dense(64, activation=\"relu\", name=\"dense_1\")(inputs)\n",
    "hidden_2 = tf.keras.layers.Dense(64, activation=\"relu\", name=\"dense_2\")(hidden_1)\n",
    "outputs = tf.keras.layers.Dense(2, activation=\"softmax\", name=\"predictions\")(hidden_2)\n",
    "\n",
    "model_func = tf.keras.Model(inputs=inputs, outputs=outputs)"
   ]
  },
  {
   "cell_type": "code",
   "execution_count": 187,
   "metadata": {},
   "outputs": [],
   "source": [
    "model_func.compile(optimizer=tf.keras.optimizers.RMSprop(), loss=tf.keras.losses.SparseCategoricalCrossentropy(), metrics=['accuracy'])"
   ]
  },
  {
   "cell_type": "markdown",
   "metadata": {},
   "source": [
    "### 7. Model Training Function API"
   ]
  },
  {
   "cell_type": "code",
   "execution_count": 188,
   "metadata": {},
   "outputs": [
    {
     "name": "stdout",
     "output_type": "stream",
     "text": [
      "Epoch 1/30\n",
      "150/150 [==============================] - 1s 2ms/step - loss: 0.4689 - accuracy: 0.7777 - val_loss: 0.4528 - val_accuracy: 0.7696\n",
      "Epoch 2/30\n",
      "150/150 [==============================] - 0s 1ms/step - loss: 0.4358 - accuracy: 0.7941 - val_loss: 0.4497 - val_accuracy: 0.7767\n",
      "Epoch 3/30\n",
      "150/150 [==============================] - 0s 1ms/step - loss: 0.4334 - accuracy: 0.7959 - val_loss: 0.4454 - val_accuracy: 0.7794\n",
      "Epoch 4/30\n",
      "150/150 [==============================] - 0s 1ms/step - loss: 0.4299 - accuracy: 0.8010 - val_loss: 0.4451 - val_accuracy: 0.7749\n",
      "Epoch 5/30\n",
      "150/150 [==============================] - 0s 1ms/step - loss: 0.4299 - accuracy: 0.8028 - val_loss: 0.4445 - val_accuracy: 0.7758\n",
      "Epoch 6/30\n",
      "150/150 [==============================] - 0s 1ms/step - loss: 0.4295 - accuracy: 0.8017 - val_loss: 0.4505 - val_accuracy: 0.7776\n",
      "Epoch 7/30\n",
      "150/150 [==============================] - 0s 1ms/step - loss: 0.4271 - accuracy: 0.8004 - val_loss: 0.4424 - val_accuracy: 0.7794\n",
      "Epoch 8/30\n",
      "150/150 [==============================] - 0s 1ms/step - loss: 0.4277 - accuracy: 0.8046 - val_loss: 0.4447 - val_accuracy: 0.7767\n",
      "Epoch 9/30\n",
      "150/150 [==============================] - 0s 1ms/step - loss: 0.4267 - accuracy: 0.8012 - val_loss: 0.4502 - val_accuracy: 0.7731\n",
      "Epoch 10/30\n",
      "150/150 [==============================] - 0s 1ms/step - loss: 0.4247 - accuracy: 0.8028 - val_loss: 0.4412 - val_accuracy: 0.7767\n",
      "Epoch 11/30\n",
      "150/150 [==============================] - 0s 1ms/step - loss: 0.4249 - accuracy: 0.8010 - val_loss: 0.4429 - val_accuracy: 0.7749\n",
      "Epoch 12/30\n",
      "150/150 [==============================] - 0s 1ms/step - loss: 0.4248 - accuracy: 0.8053 - val_loss: 0.4392 - val_accuracy: 0.7740\n",
      "Epoch 13/30\n",
      "150/150 [==============================] - 0s 1ms/step - loss: 0.4239 - accuracy: 0.8030 - val_loss: 0.4418 - val_accuracy: 0.7785\n",
      "Epoch 14/30\n",
      "150/150 [==============================] - 0s 1ms/step - loss: 0.4242 - accuracy: 0.8075 - val_loss: 0.4383 - val_accuracy: 0.7785\n",
      "Epoch 15/30\n",
      "150/150 [==============================] - 0s 1ms/step - loss: 0.4236 - accuracy: 0.8061 - val_loss: 0.4398 - val_accuracy: 0.7776\n",
      "Epoch 16/30\n",
      "150/150 [==============================] - 0s 1ms/step - loss: 0.4232 - accuracy: 0.8070 - val_loss: 0.4455 - val_accuracy: 0.7820\n",
      "Epoch 17/30\n",
      "150/150 [==============================] - 0s 1ms/step - loss: 0.4231 - accuracy: 0.8037 - val_loss: 0.4364 - val_accuracy: 0.7758\n",
      "Epoch 18/30\n",
      "150/150 [==============================] - 0s 1ms/step - loss: 0.4223 - accuracy: 0.8028 - val_loss: 0.4374 - val_accuracy: 0.7785\n",
      "Epoch 19/30\n",
      "150/150 [==============================] - 0s 1ms/step - loss: 0.4221 - accuracy: 0.8046 - val_loss: 0.4350 - val_accuracy: 0.7794\n",
      "Epoch 20/30\n",
      "150/150 [==============================] - 0s 1ms/step - loss: 0.4202 - accuracy: 0.8035 - val_loss: 0.4369 - val_accuracy: 0.7802\n",
      "Epoch 21/30\n",
      "150/150 [==============================] - 0s 1ms/step - loss: 0.4219 - accuracy: 0.8037 - val_loss: 0.4389 - val_accuracy: 0.7802\n",
      "Epoch 22/30\n",
      "150/150 [==============================] - 0s 1ms/step - loss: 0.4208 - accuracy: 0.8059 - val_loss: 0.4582 - val_accuracy: 0.7731\n",
      "Epoch 23/30\n",
      "150/150 [==============================] - 0s 1ms/step - loss: 0.4228 - accuracy: 0.8053 - val_loss: 0.4401 - val_accuracy: 0.7776\n",
      "Epoch 24/30\n",
      "150/150 [==============================] - 0s 1ms/step - loss: 0.4209 - accuracy: 0.8046 - val_loss: 0.4366 - val_accuracy: 0.7767\n",
      "Epoch 25/30\n",
      "150/150 [==============================] - 0s 1ms/step - loss: 0.4200 - accuracy: 0.8064 - val_loss: 0.4359 - val_accuracy: 0.7776\n",
      "Epoch 26/30\n",
      "150/150 [==============================] - 0s 1ms/step - loss: 0.4190 - accuracy: 0.8064 - val_loss: 0.4455 - val_accuracy: 0.7785\n",
      "Epoch 27/30\n",
      "150/150 [==============================] - 0s 1ms/step - loss: 0.4201 - accuracy: 0.8057 - val_loss: 0.4339 - val_accuracy: 0.7829\n",
      "Epoch 28/30\n",
      "150/150 [==============================] - 0s 1ms/step - loss: 0.4191 - accuracy: 0.8066 - val_loss: 0.4387 - val_accuracy: 0.7794\n",
      "Epoch 29/30\n",
      "150/150 [==============================] - 0s 1ms/step - loss: 0.4198 - accuracy: 0.8030 - val_loss: 0.4333 - val_accuracy: 0.7794\n",
      "Epoch 30/30\n",
      "150/150 [==============================] - 0s 1ms/step - loss: 0.4192 - accuracy: 0.8046 - val_loss: 0.4422 - val_accuracy: 0.7811\n"
     ]
    }
   ],
   "source": [
    "history_func = model_func.fit(train_data, epochs=30,\n",
    "                                validation_data=val_data, verbose=1)"
   ]
  },
  {
   "cell_type": "markdown",
   "metadata": {},
   "source": [
    "### 8. Model Evaluation Function API"
   ]
  },
  {
   "cell_type": "code",
   "execution_count": 189,
   "metadata": {},
   "outputs": [
    {
     "data": {
      "text/plain": [
       "<matplotlib.legend.Legend at 0x2576ff32cd0>"
      ]
     },
     "execution_count": 189,
     "metadata": {},
     "output_type": "execute_result"
    },
    {
     "data": {
      "image/png": "[encoded data removed]",
      "text/plain": [
       "<Figure size 432x288 with 1 Axes>"
      ]
     },
     "metadata": {
      "needs_background": "light"
     },
     "output_type": "display_data"
    }
   ],
   "source": [
    "fig, ax = plt.subplots()\n",
    "ax.plot(range(30),history_func.history['loss'],label='train loss')\n",
    "ax.plot(range(30),history_func.history['val_loss'],label='val loss')\n",
    "ax.set_xlabel('Epoch')\n",
    "ax.set_ylabel('Loss')\n",
    "plt.legend()"
   ]
  },
  {
   "cell_type": "code",
   "execution_count": 190,
   "metadata": {},
   "outputs": [
    {
     "data": {
      "text/plain": [
       "<matplotlib.legend.Legend at 0x2575dc2b700>"
      ]
     },
     "execution_count": 190,
     "metadata": {},
     "output_type": "execute_result"
    },
    {
     "data": {
      "image/png": "[encoded data removed]",
      "text/plain": [
       "<Figure size 432x288 with 1 Axes>"
      ]
     },
     "metadata": {
      "needs_background": "light"
     },
     "output_type": "display_data"
    }
   ],
   "source": [
    "fig, ax = plt.subplots()\n",
    "ax.plot(range(30),history_func.history['accuracy'],label='accuracy')\n",
    "ax.plot(range(30),history_func.history['val_accuracy'],label='val accuracy')\n",
    "ax.set_xlabel('Epoch')\n",
    "ax.set_ylabel('Loss')\n",
    "plt.legend()"
   ]
  },
  {
   "cell_type": "markdown",
   "metadata": {},
   "source": [
    "* Setelah dievaluasi model menggunakan Function API hasilnya tidak jauh berbeda dengan Sequence API yaitu cukup goodfit dimana train loss tidak jauh berbeda daripada val loss nya.\n",
    "* Jika kita bandingkan sequence API dengan function API terlihat ada perbedaan dalam penurunan train loss dan val loss, sequence API lebih konsisten terjadi penurunan dan val_loss nya tidak terjadi exploding peak yang tajam. Berbeda dengan function API dimana train loss terlihat stagnan walaupun tidak terjadi vanishing gradient, dan val loss nya mengalami exploding peak yang tajam dan berulang kali\n",
    "* Sedangkan pada grafik accuracy terlihat bahwa perbedaan accuracy juga tidak berbeda jauh hanya sekitar 0.2\n",
    "* Kesimpulan yang saya dapat dari kedua model ini, model sequence lebih baik jika dibandingkan dengan model Function sehingga saya akan melakukan tuning pada model sequence agar mendapatkan hasil yang lebih baik"
   ]
  },
  {
   "cell_type": "code",
   "execution_count": 191,
   "metadata": {},
   "outputs": [
    {
     "name": "stdout",
     "output_type": "stream",
     "text": [
      "44/44 [==============================] - 0s 719us/step - loss: 0.4505 - accuracy: 0.7972\n"
     ]
    },
    {
     "data": {
      "text/plain": [
       "[0.45045480132102966, 0.7971529960632324]"
      ]
     },
     "execution_count": 191,
     "metadata": {},
     "output_type": "execute_result"
    }
   ],
   "source": [
    "model_func.evaluate(X_test_final, y_test)"
   ]
  },
  {
   "cell_type": "markdown",
   "metadata": {},
   "source": [
    "### 9. Predict Data Function API"
   ]
  },
  {
   "cell_type": "code",
   "execution_count": 192,
   "metadata": {},
   "outputs": [
    {
     "name": "stdout",
     "output_type": "stream",
     "text": [
      "WARNING:tensorflow:5 out of the last 9 calls to <function Model.make_predict_function.<locals>.predict_function at 0x000002575DC9D790> triggered tf.function retracing. Tracing is expensive and the excessive number of tracings could be due to (1) creating @tf.function repeatedly in a loop, (2) passing tensors with different shapes, (3) passing Python objects instead of tensors. For (1), please define your @tf.function outside of the loop. For (2), @tf.function has reduce_retracing=True option that can avoid unnecessary retracing. For (3), please refer to https://www.tensorflow.org/guide/function#controlling_retracing and https://www.tensorflow.org/api_docs/python/tf/function for  more details.\n",
      "1/1 [==============================] - 0s 60ms/step\n"
     ]
    },
    {
     "data": {
      "text/plain": [
       "array([[0.87, 0.13],\n",
       "       [0.99, 0.01],\n",
       "       [0.58, 0.42],\n",
       "       [0.24, 0.76],\n",
       "       [0.55, 0.45],\n",
       "       [0.23, 0.77],\n",
       "       [0.54, 0.46],\n",
       "       [0.85, 0.15],\n",
       "       [0.73, 0.27],\n",
       "       [0.89, 0.11]], dtype=float32)"
      ]
     },
     "execution_count": 192,
     "metadata": {},
     "output_type": "execute_result"
    }
   ],
   "source": [
    "X_new_func = X_test_final[:10]\n",
    "y_proba_func = model_func.predict(X_new_func)\n",
    "y_proba_func.round(2)"
   ]
  },
  {
   "cell_type": "markdown",
   "metadata": {},
   "source": [
    "Dari hasil probabilitas dapat kita ketahui nilai class 0 masih mendominasi dibandingkan probabilitas dari class 1"
   ]
  },
  {
   "cell_type": "code",
   "execution_count": 193,
   "metadata": {},
   "outputs": [
    {
     "name": "stdout",
     "output_type": "stream",
     "text": [
      "1/1 [==============================] - 0s 14ms/step\n"
     ]
    },
    {
     "data": {
      "text/plain": [
       "array([0, 0, 0, 1, 0, 1, 0, 0, 0, 0], dtype=int64)"
      ]
     },
     "execution_count": 193,
     "metadata": {},
     "output_type": "execute_result"
    }
   ],
   "source": [
    "y_pred_func = np.argmax(model_func.predict(X_new_func), axis=-1)\n",
    "y_pred_func"
   ]
  },
  {
   "cell_type": "code",
   "execution_count": 194,
   "metadata": {},
   "outputs": [
    {
     "data": {
      "text/plain": [
       "array(['No', 'No', 'No', 'Yes', 'No', 'Yes', 'No', 'No', 'No', 'No'],\n",
       "      dtype='<U3')"
      ]
     },
     "execution_count": 194,
     "metadata": {},
     "output_type": "execute_result"
    }
   ],
   "source": [
    "np.array(class_names)[y_pred_func]"
   ]
  },
  {
   "cell_type": "code",
   "execution_count": 195,
   "metadata": {},
   "outputs": [
    {
     "data": {
      "text/plain": [
       "4381    1\n",
       "2446    0\n",
       "6582    1\n",
       "64      1\n",
       "4841    1\n",
       "5671    0\n",
       "1445    0\n",
       "3140    0\n",
       "5890    1\n",
       "1891    0\n",
       "Name: Churn, dtype: int64"
      ]
     },
     "execution_count": 195,
     "metadata": {},
     "output_type": "execute_result"
    }
   ],
   "source": [
    "y_new = y_test[:10]\n",
    "y_new"
   ]
  },
  {
   "cell_type": "markdown",
   "metadata": {},
   "source": [
    "Dari hasil perbandingan dengan nilai asli dapat diketahui hanya 60% yang dapat di predict benar dari model dengan function API"
   ]
  },
  {
   "cell_type": "markdown",
   "metadata": {},
   "source": [
    "### 6. Model Definition Sequence API with Tuning"
   ]
  },
  {
   "cell_type": "code",
   "execution_count": 196,
   "metadata": {},
   "outputs": [],
   "source": [
    "model_final = tf.keras.models.Sequential() #declare model\n",
    "\n",
    "model_final.add(tf.keras.layers.Dense(64,input_shape=(10,), kernel_initializer=tf.keras.initializers.GlorotUniform(), activation='tanh')) #input layer\n",
    "\n",
    "model_final.add(tf.keras.layers.Dense(32, activation='relu')) #hideen layer 1  \n",
    "\n",
    "model_final.add(tf.keras.layers.Dense(16, activation='relu')) #hidden layer 2\n",
    "\n",
    "model_final.add(tf.keras.layers.Dense(8, activation='relu')) #hidden layer 3\n",
    "\n",
    "model_final.add(tf.keras.layers.Dense(2, activation='softmax')) #output layer"
   ]
  },
  {
   "cell_type": "code",
   "execution_count": 197,
   "metadata": {},
   "outputs": [],
   "source": [
    "model_final.compile(optimizer = tf.keras.optimizers.SGD(learning_rate=0.15, clipvalue=1.0), loss='sparse_categorical_crossentropy', metrics = ['accuracy'])"
   ]
  },
  {
   "cell_type": "code",
   "execution_count": 198,
   "metadata": {},
   "outputs": [
    {
     "name": "stdout",
     "output_type": "stream",
     "text": [
      "Model: \"sequential_4\"\n",
      "_________________________________________________________________\n",
      " Layer (type)                Output Shape              Param #   \n",
      "=================================================================\n",
      " dense_11 (Dense)            (None, 64)                704       \n",
      "                                                                 \n",
      " dense_12 (Dense)            (None, 32)                2080      \n",
      "                                                                 \n",
      " dense_13 (Dense)            (None, 16)                528       \n",
      "                                                                 \n",
      " dense_14 (Dense)            (None, 8)                 136       \n",
      "                                                                 \n",
      " dense_15 (Dense)            (None, 2)                 18        \n",
      "                                                                 \n",
      "=================================================================\n",
      "Total params: 3,466\n",
      "Trainable params: 3,466\n",
      "Non-trainable params: 0\n",
      "_________________________________________________________________\n"
     ]
    }
   ],
   "source": [
    "model_final.summary()"
   ]
  },
  {
   "cell_type": "markdown",
   "metadata": {},
   "source": [
    "### 7. Model Training Sequence API with Tuning"
   ]
  },
  {
   "cell_type": "code",
   "execution_count": 199,
   "metadata": {},
   "outputs": [
    {
     "name": "stdout",
     "output_type": "stream",
     "text": [
      "Epoch 1/200\n",
      "150/150 [==============================] - 1s 2ms/step - loss: 0.4714 - accuracy: 0.7781 - val_loss: 0.4505 - val_accuracy: 0.7714\n",
      "Epoch 2/200\n",
      "150/150 [==============================] - 0s 1ms/step - loss: 0.4462 - accuracy: 0.7981 - val_loss: 0.4540 - val_accuracy: 0.7811\n",
      "Epoch 3/200\n",
      "150/150 [==============================] - 0s 1ms/step - loss: 0.4385 - accuracy: 0.7957 - val_loss: 0.4444 - val_accuracy: 0.7785\n",
      "Epoch 4/200\n",
      "150/150 [==============================] - 0s 1ms/step - loss: 0.4359 - accuracy: 0.7984 - val_loss: 0.4652 - val_accuracy: 0.7776\n",
      "Epoch 5/200\n",
      "150/150 [==============================] - 0s 1ms/step - loss: 0.4371 - accuracy: 0.7984 - val_loss: 0.4540 - val_accuracy: 0.7731\n",
      "Epoch 6/200\n",
      "150/150 [==============================] - 0s 1ms/step - loss: 0.4321 - accuracy: 0.8019 - val_loss: 0.4632 - val_accuracy: 0.7651\n",
      "Epoch 7/200\n",
      "150/150 [==============================] - 0s 1ms/step - loss: 0.4338 - accuracy: 0.8015 - val_loss: 0.4436 - val_accuracy: 0.7811\n",
      "Epoch 8/200\n",
      "150/150 [==============================] - 0s 1ms/step - loss: 0.4305 - accuracy: 0.8015 - val_loss: 0.4519 - val_accuracy: 0.7696\n",
      "Epoch 9/200\n",
      "150/150 [==============================] - 0s 1ms/step - loss: 0.4329 - accuracy: 0.8030 - val_loss: 0.4433 - val_accuracy: 0.7758\n",
      "Epoch 10/200\n",
      "150/150 [==============================] - 0s 1ms/step - loss: 0.4312 - accuracy: 0.8024 - val_loss: 0.4400 - val_accuracy: 0.7758\n",
      "Epoch 11/200\n",
      "150/150 [==============================] - 0s 1ms/step - loss: 0.4306 - accuracy: 0.8021 - val_loss: 0.4457 - val_accuracy: 0.7785\n",
      "Epoch 12/200\n",
      "150/150 [==============================] - 0s 1ms/step - loss: 0.4308 - accuracy: 0.8061 - val_loss: 0.4544 - val_accuracy: 0.7740\n",
      "Epoch 13/200\n",
      "150/150 [==============================] - 0s 1ms/step - loss: 0.4302 - accuracy: 0.8024 - val_loss: 0.4486 - val_accuracy: 0.7687\n",
      "Epoch 14/200\n",
      "150/150 [==============================] - 0s 1ms/step - loss: 0.4300 - accuracy: 0.8019 - val_loss: 0.4471 - val_accuracy: 0.7767\n",
      "Epoch 15/200\n",
      "150/150 [==============================] - 0s 1ms/step - loss: 0.4288 - accuracy: 0.7979 - val_loss: 0.4544 - val_accuracy: 0.7705\n",
      "Epoch 16/200\n",
      "150/150 [==============================] - 0s 1ms/step - loss: 0.4273 - accuracy: 0.8017 - val_loss: 0.4492 - val_accuracy: 0.7749\n",
      "Epoch 17/200\n",
      "150/150 [==============================] - 0s 1ms/step - loss: 0.4263 - accuracy: 0.8064 - val_loss: 0.4411 - val_accuracy: 0.7794\n",
      "Epoch 18/200\n",
      "150/150 [==============================] - 0s 1ms/step - loss: 0.4271 - accuracy: 0.8048 - val_loss: 0.4439 - val_accuracy: 0.7776\n",
      "Epoch 19/200\n",
      "150/150 [==============================] - 0s 1ms/step - loss: 0.4276 - accuracy: 0.8048 - val_loss: 0.4460 - val_accuracy: 0.7731\n",
      "Epoch 20/200\n",
      "150/150 [==============================] - 0s 1ms/step - loss: 0.4270 - accuracy: 0.8024 - val_loss: 0.4485 - val_accuracy: 0.7794\n",
      "Epoch 21/200\n",
      "150/150 [==============================] - 0s 1ms/step - loss: 0.4249 - accuracy: 0.8017 - val_loss: 0.4432 - val_accuracy: 0.7758\n",
      "Epoch 22/200\n",
      "150/150 [==============================] - 0s 1ms/step - loss: 0.4251 - accuracy: 0.8015 - val_loss: 0.4354 - val_accuracy: 0.7749\n",
      "Epoch 23/200\n",
      "150/150 [==============================] - 0s 1ms/step - loss: 0.4247 - accuracy: 0.8041 - val_loss: 0.4478 - val_accuracy: 0.7749\n",
      "Epoch 24/200\n",
      "150/150 [==============================] - 0s 1ms/step - loss: 0.4258 - accuracy: 0.8026 - val_loss: 0.4563 - val_accuracy: 0.7722\n",
      "Epoch 25/200\n",
      "150/150 [==============================] - 0s 1ms/step - loss: 0.4259 - accuracy: 0.8017 - val_loss: 0.4432 - val_accuracy: 0.7767\n",
      "Epoch 26/200\n",
      "150/150 [==============================] - 0s 1ms/step - loss: 0.4231 - accuracy: 0.8066 - val_loss: 0.4598 - val_accuracy: 0.7758\n",
      "Epoch 27/200\n",
      "150/150 [==============================] - 0s 1ms/step - loss: 0.4260 - accuracy: 0.8075 - val_loss: 0.4454 - val_accuracy: 0.7731\n",
      "Epoch 28/200\n",
      "150/150 [==============================] - 0s 1ms/step - loss: 0.4242 - accuracy: 0.8077 - val_loss: 0.4424 - val_accuracy: 0.7811\n",
      "Epoch 29/200\n",
      "150/150 [==============================] - 0s 1ms/step - loss: 0.4252 - accuracy: 0.8037 - val_loss: 0.4454 - val_accuracy: 0.7740\n",
      "Epoch 30/200\n",
      "150/150 [==============================] - 0s 1ms/step - loss: 0.4258 - accuracy: 0.8041 - val_loss: 0.4347 - val_accuracy: 0.7776\n",
      "Epoch 31/200\n",
      "150/150 [==============================] - 0s 1ms/step - loss: 0.4224 - accuracy: 0.8050 - val_loss: 0.4394 - val_accuracy: 0.7802\n",
      "Epoch 32/200\n",
      "150/150 [==============================] - 0s 1ms/step - loss: 0.4245 - accuracy: 0.8030 - val_loss: 0.4451 - val_accuracy: 0.7820\n",
      "Epoch 33/200\n",
      "150/150 [==============================] - 0s 1ms/step - loss: 0.4214 - accuracy: 0.8032 - val_loss: 0.4536 - val_accuracy: 0.7651\n",
      "Epoch 34/200\n",
      "150/150 [==============================] - 0s 1ms/step - loss: 0.4247 - accuracy: 0.8037 - val_loss: 0.4378 - val_accuracy: 0.7767\n",
      "Epoch 35/200\n",
      "150/150 [==============================] - 0s 1ms/step - loss: 0.4240 - accuracy: 0.8019 - val_loss: 0.4390 - val_accuracy: 0.7785\n",
      "Epoch 36/200\n",
      "150/150 [==============================] - 0s 1ms/step - loss: 0.4229 - accuracy: 0.8044 - val_loss: 0.4417 - val_accuracy: 0.7785\n",
      "Epoch 37/200\n",
      "150/150 [==============================] - 0s 1ms/step - loss: 0.4240 - accuracy: 0.8055 - val_loss: 0.4423 - val_accuracy: 0.7767\n",
      "Epoch 38/200\n",
      "150/150 [==============================] - 0s 1ms/step - loss: 0.4223 - accuracy: 0.8037 - val_loss: 0.4368 - val_accuracy: 0.7802\n",
      "Epoch 39/200\n",
      "150/150 [==============================] - 0s 1ms/step - loss: 0.4241 - accuracy: 0.8024 - val_loss: 0.4384 - val_accuracy: 0.7794\n",
      "Epoch 40/200\n",
      "150/150 [==============================] - 0s 1ms/step - loss: 0.4237 - accuracy: 0.8086 - val_loss: 0.4436 - val_accuracy: 0.7758\n",
      "Epoch 41/200\n",
      "150/150 [==============================] - 0s 1ms/step - loss: 0.4229 - accuracy: 0.8041 - val_loss: 0.4378 - val_accuracy: 0.7758\n",
      "Epoch 42/200\n",
      "150/150 [==============================] - 0s 1ms/step - loss: 0.4226 - accuracy: 0.8037 - val_loss: 0.4395 - val_accuracy: 0.7794\n",
      "Epoch 43/200\n",
      "150/150 [==============================] - 0s 1ms/step - loss: 0.4253 - accuracy: 0.8032 - val_loss: 0.4450 - val_accuracy: 0.7794\n",
      "Epoch 44/200\n",
      "150/150 [==============================] - 0s 1ms/step - loss: 0.4237 - accuracy: 0.8017 - val_loss: 0.4387 - val_accuracy: 0.7776\n",
      "Epoch 45/200\n",
      "150/150 [==============================] - 0s 1ms/step - loss: 0.4225 - accuracy: 0.8048 - val_loss: 0.4363 - val_accuracy: 0.7749\n",
      "Epoch 46/200\n",
      "150/150 [==============================] - 0s 1ms/step - loss: 0.4211 - accuracy: 0.8057 - val_loss: 0.4527 - val_accuracy: 0.7776\n",
      "Epoch 47/200\n",
      "150/150 [==============================] - 0s 1ms/step - loss: 0.4222 - accuracy: 0.8079 - val_loss: 0.4418 - val_accuracy: 0.7811\n",
      "Epoch 48/200\n",
      "150/150 [==============================] - 0s 1ms/step - loss: 0.4217 - accuracy: 0.8057 - val_loss: 0.4375 - val_accuracy: 0.7785\n",
      "Epoch 49/200\n",
      "150/150 [==============================] - 0s 1ms/step - loss: 0.4227 - accuracy: 0.8032 - val_loss: 0.4355 - val_accuracy: 0.7829\n",
      "Epoch 50/200\n",
      "150/150 [==============================] - 0s 1ms/step - loss: 0.4207 - accuracy: 0.8075 - val_loss: 0.4386 - val_accuracy: 0.7820\n",
      "Epoch 51/200\n",
      "150/150 [==============================] - 0s 1ms/step - loss: 0.4213 - accuracy: 0.8059 - val_loss: 0.4487 - val_accuracy: 0.7776\n",
      "Epoch 52/200\n",
      "150/150 [==============================] - 0s 1ms/step - loss: 0.4228 - accuracy: 0.8059 - val_loss: 0.4392 - val_accuracy: 0.7838\n",
      "Epoch 53/200\n",
      "150/150 [==============================] - 0s 1ms/step - loss: 0.4212 - accuracy: 0.8077 - val_loss: 0.4442 - val_accuracy: 0.7794\n",
      "Epoch 54/200\n",
      "150/150 [==============================] - 0s 1ms/step - loss: 0.4208 - accuracy: 0.8064 - val_loss: 0.4339 - val_accuracy: 0.7829\n",
      "Epoch 55/200\n",
      "150/150 [==============================] - 0s 1ms/step - loss: 0.4200 - accuracy: 0.8086 - val_loss: 0.4360 - val_accuracy: 0.7811\n",
      "Epoch 56/200\n",
      "150/150 [==============================] - 0s 1ms/step - loss: 0.4215 - accuracy: 0.8079 - val_loss: 0.4425 - val_accuracy: 0.7767\n",
      "Epoch 57/200\n",
      "150/150 [==============================] - 0s 1ms/step - loss: 0.4220 - accuracy: 0.8024 - val_loss: 0.4374 - val_accuracy: 0.7785\n",
      "Epoch 58/200\n",
      "150/150 [==============================] - 0s 1ms/step - loss: 0.4204 - accuracy: 0.8055 - val_loss: 0.4360 - val_accuracy: 0.7838\n",
      "Epoch 59/200\n",
      "150/150 [==============================] - 0s 1ms/step - loss: 0.4217 - accuracy: 0.8048 - val_loss: 0.4374 - val_accuracy: 0.7811\n",
      "Epoch 60/200\n",
      "150/150 [==============================] - 0s 1ms/step - loss: 0.4210 - accuracy: 0.8055 - val_loss: 0.4374 - val_accuracy: 0.7865\n",
      "Epoch 61/200\n",
      "150/150 [==============================] - 0s 1ms/step - loss: 0.4209 - accuracy: 0.8059 - val_loss: 0.4427 - val_accuracy: 0.7794\n",
      "Epoch 62/200\n",
      "150/150 [==============================] - 0s 1ms/step - loss: 0.4221 - accuracy: 0.8053 - val_loss: 0.4355 - val_accuracy: 0.7802\n",
      "Epoch 63/200\n",
      "150/150 [==============================] - 0s 1ms/step - loss: 0.4202 - accuracy: 0.8019 - val_loss: 0.4389 - val_accuracy: 0.7785\n",
      "Epoch 64/200\n",
      "150/150 [==============================] - 0s 1ms/step - loss: 0.4186 - accuracy: 0.8048 - val_loss: 0.4409 - val_accuracy: 0.7776\n",
      "Epoch 65/200\n",
      "150/150 [==============================] - 0s 1ms/step - loss: 0.4202 - accuracy: 0.8068 - val_loss: 0.4336 - val_accuracy: 0.7856\n",
      "Epoch 66/200\n",
      "150/150 [==============================] - 0s 1ms/step - loss: 0.4202 - accuracy: 0.8084 - val_loss: 0.4385 - val_accuracy: 0.7811\n",
      "Epoch 67/200\n",
      "150/150 [==============================] - 0s 1ms/step - loss: 0.4208 - accuracy: 0.8079 - val_loss: 0.4453 - val_accuracy: 0.7838\n",
      "Epoch 68/200\n",
      "150/150 [==============================] - 0s 1ms/step - loss: 0.4199 - accuracy: 0.8079 - val_loss: 0.4338 - val_accuracy: 0.7785\n",
      "Epoch 69/200\n",
      "150/150 [==============================] - 0s 1ms/step - loss: 0.4199 - accuracy: 0.8039 - val_loss: 0.4372 - val_accuracy: 0.7767\n",
      "Epoch 70/200\n",
      "150/150 [==============================] - 0s 1ms/step - loss: 0.4208 - accuracy: 0.8006 - val_loss: 0.4391 - val_accuracy: 0.7785\n",
      "Epoch 71/200\n",
      "150/150 [==============================] - 0s 1ms/step - loss: 0.4205 - accuracy: 0.8032 - val_loss: 0.4395 - val_accuracy: 0.7838\n",
      "Epoch 72/200\n",
      "150/150 [==============================] - 0s 1ms/step - loss: 0.4183 - accuracy: 0.8044 - val_loss: 0.4497 - val_accuracy: 0.7731\n",
      "Epoch 73/200\n",
      "150/150 [==============================] - 0s 1ms/step - loss: 0.4208 - accuracy: 0.8070 - val_loss: 0.4377 - val_accuracy: 0.7785\n",
      "Epoch 74/200\n",
      "150/150 [==============================] - 0s 1ms/step - loss: 0.4187 - accuracy: 0.8037 - val_loss: 0.4349 - val_accuracy: 0.7794\n",
      "Epoch 75/200\n",
      "150/150 [==============================] - 0s 1ms/step - loss: 0.4196 - accuracy: 0.8039 - val_loss: 0.4378 - val_accuracy: 0.7838\n",
      "Epoch 76/200\n",
      "150/150 [==============================] - 0s 1ms/step - loss: 0.4185 - accuracy: 0.8059 - val_loss: 0.4385 - val_accuracy: 0.7776\n",
      "Epoch 77/200\n",
      "150/150 [==============================] - 0s 1ms/step - loss: 0.4204 - accuracy: 0.8061 - val_loss: 0.4411 - val_accuracy: 0.7776\n",
      "Epoch 78/200\n",
      "150/150 [==============================] - 0s 1ms/step - loss: 0.4190 - accuracy: 0.8073 - val_loss: 0.4414 - val_accuracy: 0.7811\n",
      "Epoch 79/200\n",
      "150/150 [==============================] - 0s 1ms/step - loss: 0.4189 - accuracy: 0.8048 - val_loss: 0.4358 - val_accuracy: 0.7865\n",
      "Epoch 80/200\n",
      "150/150 [==============================] - 0s 1ms/step - loss: 0.4185 - accuracy: 0.8086 - val_loss: 0.4361 - val_accuracy: 0.7820\n",
      "Epoch 81/200\n",
      "150/150 [==============================] - 0s 1ms/step - loss: 0.4183 - accuracy: 0.8084 - val_loss: 0.4330 - val_accuracy: 0.7865\n",
      "Epoch 82/200\n",
      "150/150 [==============================] - 0s 1ms/step - loss: 0.4209 - accuracy: 0.8064 - val_loss: 0.4367 - val_accuracy: 0.7856\n",
      "Epoch 83/200\n",
      "150/150 [==============================] - 0s 1ms/step - loss: 0.4192 - accuracy: 0.8044 - val_loss: 0.4362 - val_accuracy: 0.7811\n",
      "Epoch 84/200\n",
      "150/150 [==============================] - 0s 1ms/step - loss: 0.4193 - accuracy: 0.8053 - val_loss: 0.4386 - val_accuracy: 0.7758\n",
      "Epoch 85/200\n",
      "150/150 [==============================] - 0s 1ms/step - loss: 0.4186 - accuracy: 0.8088 - val_loss: 0.4377 - val_accuracy: 0.7758\n",
      "Epoch 86/200\n",
      "150/150 [==============================] - 0s 1ms/step - loss: 0.4201 - accuracy: 0.8035 - val_loss: 0.4399 - val_accuracy: 0.7802\n",
      "Epoch 87/200\n",
      "150/150 [==============================] - 0s 1ms/step - loss: 0.4193 - accuracy: 0.8057 - val_loss: 0.4361 - val_accuracy: 0.7847\n",
      "Epoch 88/200\n",
      "150/150 [==============================] - 0s 1ms/step - loss: 0.4179 - accuracy: 0.8070 - val_loss: 0.4331 - val_accuracy: 0.7847\n",
      "Epoch 89/200\n",
      "150/150 [==============================] - 0s 1ms/step - loss: 0.4178 - accuracy: 0.8048 - val_loss: 0.4414 - val_accuracy: 0.7811\n",
      "Epoch 90/200\n",
      "150/150 [==============================] - 0s 1ms/step - loss: 0.4183 - accuracy: 0.8030 - val_loss: 0.4426 - val_accuracy: 0.7776\n",
      "Epoch 91/200\n",
      "150/150 [==============================] - 0s 1ms/step - loss: 0.4179 - accuracy: 0.8044 - val_loss: 0.4412 - val_accuracy: 0.7767\n",
      "Epoch 92/200\n",
      "150/150 [==============================] - 0s 1ms/step - loss: 0.4173 - accuracy: 0.8044 - val_loss: 0.4390 - val_accuracy: 0.7811\n",
      "Epoch 93/200\n",
      "150/150 [==============================] - 0s 1ms/step - loss: 0.4171 - accuracy: 0.8057 - val_loss: 0.4380 - val_accuracy: 0.7820\n",
      "Epoch 94/200\n",
      "150/150 [==============================] - 0s 1ms/step - loss: 0.4184 - accuracy: 0.8057 - val_loss: 0.4424 - val_accuracy: 0.7829\n",
      "Epoch 95/200\n",
      "150/150 [==============================] - 0s 1ms/step - loss: 0.4190 - accuracy: 0.8093 - val_loss: 0.4352 - val_accuracy: 0.7829\n",
      "Epoch 96/200\n",
      "150/150 [==============================] - 0s 1ms/step - loss: 0.4183 - accuracy: 0.8053 - val_loss: 0.4386 - val_accuracy: 0.7820\n",
      "Epoch 97/200\n",
      "150/150 [==============================] - 0s 1ms/step - loss: 0.4178 - accuracy: 0.8077 - val_loss: 0.4365 - val_accuracy: 0.7847\n",
      "Epoch 98/200\n",
      "150/150 [==============================] - 0s 1ms/step - loss: 0.4175 - accuracy: 0.8086 - val_loss: 0.4406 - val_accuracy: 0.7811\n",
      "Epoch 99/200\n",
      "150/150 [==============================] - 0s 1ms/step - loss: 0.4190 - accuracy: 0.8044 - val_loss: 0.4341 - val_accuracy: 0.7794\n",
      "Epoch 100/200\n",
      "150/150 [==============================] - 0s 1ms/step - loss: 0.4191 - accuracy: 0.8066 - val_loss: 0.4336 - val_accuracy: 0.7785\n",
      "Epoch 101/200\n",
      "150/150 [==============================] - 0s 1ms/step - loss: 0.4189 - accuracy: 0.8075 - val_loss: 0.4426 - val_accuracy: 0.7758\n",
      "Epoch 102/200\n",
      "150/150 [==============================] - 0s 1ms/step - loss: 0.4189 - accuracy: 0.8061 - val_loss: 0.4333 - val_accuracy: 0.7776\n",
      "Epoch 103/200\n",
      "150/150 [==============================] - 0s 1ms/step - loss: 0.4188 - accuracy: 0.8075 - val_loss: 0.4369 - val_accuracy: 0.7811\n",
      "Epoch 104/200\n",
      "150/150 [==============================] - 0s 1ms/step - loss: 0.4180 - accuracy: 0.8068 - val_loss: 0.4383 - val_accuracy: 0.7856\n",
      "Epoch 105/200\n",
      "150/150 [==============================] - 0s 1ms/step - loss: 0.4175 - accuracy: 0.8046 - val_loss: 0.4477 - val_accuracy: 0.7838\n",
      "Epoch 106/200\n",
      "150/150 [==============================] - 0s 1ms/step - loss: 0.4174 - accuracy: 0.8068 - val_loss: 0.4366 - val_accuracy: 0.7847\n",
      "Epoch 107/200\n",
      "150/150 [==============================] - 0s 1ms/step - loss: 0.4174 - accuracy: 0.8064 - val_loss: 0.4381 - val_accuracy: 0.7829\n",
      "Epoch 108/200\n",
      "150/150 [==============================] - 0s 1ms/step - loss: 0.4174 - accuracy: 0.8055 - val_loss: 0.4353 - val_accuracy: 0.7883\n",
      "Epoch 109/200\n",
      "150/150 [==============================] - 0s 1ms/step - loss: 0.4171 - accuracy: 0.8050 - val_loss: 0.4359 - val_accuracy: 0.7811\n",
      "Epoch 110/200\n",
      "150/150 [==============================] - 0s 1ms/step - loss: 0.4178 - accuracy: 0.8044 - val_loss: 0.4426 - val_accuracy: 0.7749\n",
      "Epoch 111/200\n",
      "150/150 [==============================] - 0s 1ms/step - loss: 0.4153 - accuracy: 0.8099 - val_loss: 0.4422 - val_accuracy: 0.7802\n",
      "Epoch 112/200\n",
      "150/150 [==============================] - 0s 1ms/step - loss: 0.4172 - accuracy: 0.8059 - val_loss: 0.4369 - val_accuracy: 0.7829\n",
      "Epoch 113/200\n",
      "150/150 [==============================] - 0s 1ms/step - loss: 0.4160 - accuracy: 0.8095 - val_loss: 0.4352 - val_accuracy: 0.7820\n",
      "Epoch 114/200\n",
      "150/150 [==============================] - 0s 1ms/step - loss: 0.4163 - accuracy: 0.8077 - val_loss: 0.4406 - val_accuracy: 0.7802\n",
      "Epoch 115/200\n",
      "150/150 [==============================] - 0s 1ms/step - loss: 0.4176 - accuracy: 0.8053 - val_loss: 0.4371 - val_accuracy: 0.7802\n",
      "Epoch 116/200\n",
      "150/150 [==============================] - 0s 1ms/step - loss: 0.4162 - accuracy: 0.8068 - val_loss: 0.4339 - val_accuracy: 0.7767\n",
      "Epoch 117/200\n",
      "150/150 [==============================] - 0s 1ms/step - loss: 0.4167 - accuracy: 0.8044 - val_loss: 0.4397 - val_accuracy: 0.7802\n",
      "Epoch 118/200\n",
      "150/150 [==============================] - 0s 1ms/step - loss: 0.4158 - accuracy: 0.8075 - val_loss: 0.4334 - val_accuracy: 0.7847\n",
      "Epoch 119/200\n",
      "150/150 [==============================] - 0s 1ms/step - loss: 0.4174 - accuracy: 0.8064 - val_loss: 0.4348 - val_accuracy: 0.7820\n",
      "Epoch 120/200\n",
      "150/150 [==============================] - 0s 1ms/step - loss: 0.4163 - accuracy: 0.8088 - val_loss: 0.4370 - val_accuracy: 0.7802\n",
      "Epoch 121/200\n",
      "150/150 [==============================] - 0s 1ms/step - loss: 0.4166 - accuracy: 0.8046 - val_loss: 0.4403 - val_accuracy: 0.7856\n",
      "Epoch 122/200\n",
      "150/150 [==============================] - 0s 1ms/step - loss: 0.4160 - accuracy: 0.8097 - val_loss: 0.4388 - val_accuracy: 0.7883\n",
      "Epoch 123/200\n",
      "150/150 [==============================] - 0s 1ms/step - loss: 0.4163 - accuracy: 0.8093 - val_loss: 0.4382 - val_accuracy: 0.7776\n",
      "Epoch 124/200\n",
      "150/150 [==============================] - 0s 1ms/step - loss: 0.4150 - accuracy: 0.8057 - val_loss: 0.4428 - val_accuracy: 0.7820\n",
      "Epoch 125/200\n",
      "150/150 [==============================] - 0s 1ms/step - loss: 0.4183 - accuracy: 0.8068 - val_loss: 0.4378 - val_accuracy: 0.7802\n",
      "Epoch 126/200\n",
      "150/150 [==============================] - 0s 1ms/step - loss: 0.4164 - accuracy: 0.8075 - val_loss: 0.4335 - val_accuracy: 0.7802\n",
      "Epoch 127/200\n",
      "150/150 [==============================] - 0s 1ms/step - loss: 0.4175 - accuracy: 0.8070 - val_loss: 0.4372 - val_accuracy: 0.7794\n",
      "Epoch 128/200\n",
      "150/150 [==============================] - 0s 1ms/step - loss: 0.4170 - accuracy: 0.8030 - val_loss: 0.4410 - val_accuracy: 0.7838\n",
      "Epoch 129/200\n",
      "150/150 [==============================] - 0s 1ms/step - loss: 0.4165 - accuracy: 0.8070 - val_loss: 0.4367 - val_accuracy: 0.7767\n",
      "Epoch 130/200\n",
      "150/150 [==============================] - 0s 1ms/step - loss: 0.4160 - accuracy: 0.8077 - val_loss: 0.4425 - val_accuracy: 0.7802\n",
      "Epoch 131/200\n",
      "150/150 [==============================] - 0s 1ms/step - loss: 0.4165 - accuracy: 0.8081 - val_loss: 0.4539 - val_accuracy: 0.7802\n",
      "Epoch 132/200\n",
      "150/150 [==============================] - 0s 1ms/step - loss: 0.4162 - accuracy: 0.8066 - val_loss: 0.4367 - val_accuracy: 0.7811\n",
      "Epoch 133/200\n",
      "150/150 [==============================] - 0s 1ms/step - loss: 0.4170 - accuracy: 0.8041 - val_loss: 0.4419 - val_accuracy: 0.7883\n",
      "Epoch 134/200\n",
      "150/150 [==============================] - 0s 1ms/step - loss: 0.4171 - accuracy: 0.8079 - val_loss: 0.4411 - val_accuracy: 0.7829\n",
      "Epoch 135/200\n",
      "150/150 [==============================] - 0s 1ms/step - loss: 0.4163 - accuracy: 0.8068 - val_loss: 0.4405 - val_accuracy: 0.7802\n",
      "Epoch 136/200\n",
      "150/150 [==============================] - 0s 1ms/step - loss: 0.4163 - accuracy: 0.8053 - val_loss: 0.4433 - val_accuracy: 0.7794\n",
      "Epoch 137/200\n",
      "150/150 [==============================] - 0s 1ms/step - loss: 0.4157 - accuracy: 0.8088 - val_loss: 0.4357 - val_accuracy: 0.7802\n",
      "Epoch 138/200\n",
      "150/150 [==============================] - 0s 1ms/step - loss: 0.4166 - accuracy: 0.8048 - val_loss: 0.4401 - val_accuracy: 0.7820\n",
      "Epoch 139/200\n",
      "150/150 [==============================] - 0s 1ms/step - loss: 0.4145 - accuracy: 0.8066 - val_loss: 0.4434 - val_accuracy: 0.7820\n",
      "Epoch 140/200\n",
      "150/150 [==============================] - 0s 1ms/step - loss: 0.4158 - accuracy: 0.8066 - val_loss: 0.4401 - val_accuracy: 0.7776\n",
      "Epoch 141/200\n",
      "150/150 [==============================] - 0s 1ms/step - loss: 0.4155 - accuracy: 0.8068 - val_loss: 0.4422 - val_accuracy: 0.7785\n",
      "Epoch 142/200\n",
      "150/150 [==============================] - 0s 1ms/step - loss: 0.4156 - accuracy: 0.8075 - val_loss: 0.4366 - val_accuracy: 0.7891\n",
      "Epoch 143/200\n",
      "150/150 [==============================] - 0s 1ms/step - loss: 0.4165 - accuracy: 0.8046 - val_loss: 0.4430 - val_accuracy: 0.7811\n",
      "Epoch 144/200\n",
      "150/150 [==============================] - 0s 1ms/step - loss: 0.4157 - accuracy: 0.8032 - val_loss: 0.4390 - val_accuracy: 0.7838\n",
      "Epoch 145/200\n",
      "150/150 [==============================] - 0s 1ms/step - loss: 0.4158 - accuracy: 0.8095 - val_loss: 0.4354 - val_accuracy: 0.7811\n",
      "Epoch 146/200\n",
      "150/150 [==============================] - 0s 1ms/step - loss: 0.4144 - accuracy: 0.8077 - val_loss: 0.4403 - val_accuracy: 0.7820\n",
      "Epoch 147/200\n",
      "150/150 [==============================] - 0s 1ms/step - loss: 0.4170 - accuracy: 0.8048 - val_loss: 0.4362 - val_accuracy: 0.7838\n",
      "Epoch 148/200\n",
      "150/150 [==============================] - 0s 1ms/step - loss: 0.4150 - accuracy: 0.8059 - val_loss: 0.4376 - val_accuracy: 0.7758\n",
      "Epoch 149/200\n",
      "150/150 [==============================] - 0s 1ms/step - loss: 0.4160 - accuracy: 0.8079 - val_loss: 0.4376 - val_accuracy: 0.7847\n",
      "Epoch 150/200\n",
      "150/150 [==============================] - 0s 1ms/step - loss: 0.4157 - accuracy: 0.8055 - val_loss: 0.4341 - val_accuracy: 0.7856\n",
      "Epoch 151/200\n",
      "150/150 [==============================] - 0s 1ms/step - loss: 0.4148 - accuracy: 0.8041 - val_loss: 0.4384 - val_accuracy: 0.7776\n",
      "Epoch 152/200\n",
      "150/150 [==============================] - 0s 1ms/step - loss: 0.4142 - accuracy: 0.8064 - val_loss: 0.4371 - val_accuracy: 0.7785\n",
      "Epoch 153/200\n",
      "150/150 [==============================] - 0s 1ms/step - loss: 0.4153 - accuracy: 0.8066 - val_loss: 0.4400 - val_accuracy: 0.7847\n",
      "Epoch 154/200\n",
      "150/150 [==============================] - 0s 1ms/step - loss: 0.4145 - accuracy: 0.8093 - val_loss: 0.4384 - val_accuracy: 0.7802\n",
      "Epoch 155/200\n",
      "150/150 [==============================] - 0s 1ms/step - loss: 0.4148 - accuracy: 0.8099 - val_loss: 0.4369 - val_accuracy: 0.7767\n",
      "Epoch 156/200\n",
      "150/150 [==============================] - 0s 1ms/step - loss: 0.4139 - accuracy: 0.8097 - val_loss: 0.4450 - val_accuracy: 0.7874\n",
      "Epoch 157/200\n",
      "150/150 [==============================] - 0s 1ms/step - loss: 0.4156 - accuracy: 0.8073 - val_loss: 0.4394 - val_accuracy: 0.7758\n",
      "Epoch 158/200\n",
      "150/150 [==============================] - 0s 1ms/step - loss: 0.4155 - accuracy: 0.8084 - val_loss: 0.4406 - val_accuracy: 0.7749\n",
      "Epoch 159/200\n",
      "150/150 [==============================] - 0s 1ms/step - loss: 0.4154 - accuracy: 0.8066 - val_loss: 0.4425 - val_accuracy: 0.7776\n",
      "Epoch 160/200\n",
      "150/150 [==============================] - 0s 1ms/step - loss: 0.4142 - accuracy: 0.8073 - val_loss: 0.4368 - val_accuracy: 0.7838\n",
      "Epoch 161/200\n",
      "150/150 [==============================] - 0s 1ms/step - loss: 0.4147 - accuracy: 0.8075 - val_loss: 0.4367 - val_accuracy: 0.7820\n",
      "Epoch 162/200\n",
      "150/150 [==============================] - 0s 1ms/step - loss: 0.4150 - accuracy: 0.8077 - val_loss: 0.4332 - val_accuracy: 0.7838\n",
      "Epoch 163/200\n",
      "150/150 [==============================] - 0s 1ms/step - loss: 0.4133 - accuracy: 0.8075 - val_loss: 0.4371 - val_accuracy: 0.7838\n",
      "Epoch 164/200\n",
      "150/150 [==============================] - 0s 1ms/step - loss: 0.4145 - accuracy: 0.8081 - val_loss: 0.4426 - val_accuracy: 0.7883\n",
      "Epoch 165/200\n",
      "150/150 [==============================] - 0s 1ms/step - loss: 0.4150 - accuracy: 0.8077 - val_loss: 0.4392 - val_accuracy: 0.7838\n",
      "Epoch 166/200\n",
      "150/150 [==============================] - 0s 1ms/step - loss: 0.4135 - accuracy: 0.8064 - val_loss: 0.4370 - val_accuracy: 0.7856\n",
      "Epoch 167/200\n",
      "150/150 [==============================] - 0s 1ms/step - loss: 0.4137 - accuracy: 0.8050 - val_loss: 0.4345 - val_accuracy: 0.7785\n",
      "Epoch 168/200\n",
      "150/150 [==============================] - 0s 1ms/step - loss: 0.4147 - accuracy: 0.8057 - val_loss: 0.4382 - val_accuracy: 0.7883\n",
      "Epoch 169/200\n",
      "150/150 [==============================] - 0s 1ms/step - loss: 0.4148 - accuracy: 0.8079 - val_loss: 0.4366 - val_accuracy: 0.7802\n",
      "Epoch 170/200\n",
      "150/150 [==============================] - 0s 1ms/step - loss: 0.4148 - accuracy: 0.8050 - val_loss: 0.4384 - val_accuracy: 0.7785\n",
      "Epoch 171/200\n",
      "150/150 [==============================] - 0s 1ms/step - loss: 0.4145 - accuracy: 0.8084 - val_loss: 0.4345 - val_accuracy: 0.7891\n",
      "Epoch 172/200\n",
      "150/150 [==============================] - 0s 1ms/step - loss: 0.4142 - accuracy: 0.8101 - val_loss: 0.4364 - val_accuracy: 0.7767\n",
      "Epoch 173/200\n",
      "150/150 [==============================] - 0s 1ms/step - loss: 0.4133 - accuracy: 0.8064 - val_loss: 0.4365 - val_accuracy: 0.7767\n",
      "Epoch 174/200\n",
      "150/150 [==============================] - 0s 1ms/step - loss: 0.4143 - accuracy: 0.8073 - val_loss: 0.4435 - val_accuracy: 0.7767\n",
      "Epoch 175/200\n",
      "150/150 [==============================] - 0s 1ms/step - loss: 0.4148 - accuracy: 0.8064 - val_loss: 0.4345 - val_accuracy: 0.7802\n",
      "Epoch 176/200\n",
      "150/150 [==============================] - 0s 1ms/step - loss: 0.4123 - accuracy: 0.8090 - val_loss: 0.4327 - val_accuracy: 0.7865\n",
      "Epoch 177/200\n",
      "150/150 [==============================] - 0s 1ms/step - loss: 0.4129 - accuracy: 0.8088 - val_loss: 0.4390 - val_accuracy: 0.7794\n",
      "Epoch 178/200\n",
      "150/150 [==============================] - 0s 1ms/step - loss: 0.4139 - accuracy: 0.8046 - val_loss: 0.4380 - val_accuracy: 0.7776\n",
      "Epoch 179/200\n",
      "150/150 [==============================] - 0s 1ms/step - loss: 0.4128 - accuracy: 0.8095 - val_loss: 0.4342 - val_accuracy: 0.7820\n",
      "Epoch 180/200\n",
      "150/150 [==============================] - 0s 1ms/step - loss: 0.4126 - accuracy: 0.8073 - val_loss: 0.4461 - val_accuracy: 0.7811\n",
      "Epoch 181/200\n",
      "150/150 [==============================] - 0s 1ms/step - loss: 0.4125 - accuracy: 0.8055 - val_loss: 0.4411 - val_accuracy: 0.7838\n",
      "Epoch 182/200\n",
      "150/150 [==============================] - 0s 1ms/step - loss: 0.4137 - accuracy: 0.8075 - val_loss: 0.4404 - val_accuracy: 0.7883\n",
      "Epoch 183/200\n",
      "150/150 [==============================] - 0s 1ms/step - loss: 0.4142 - accuracy: 0.8077 - val_loss: 0.4410 - val_accuracy: 0.7794\n",
      "Epoch 184/200\n",
      "150/150 [==============================] - 0s 1ms/step - loss: 0.4124 - accuracy: 0.8086 - val_loss: 0.4354 - val_accuracy: 0.7829\n",
      "Epoch 185/200\n",
      "150/150 [==============================] - 0s 1ms/step - loss: 0.4130 - accuracy: 0.8090 - val_loss: 0.4361 - val_accuracy: 0.7865\n",
      "Epoch 186/200\n",
      "150/150 [==============================] - 0s 1ms/step - loss: 0.4131 - accuracy: 0.8075 - val_loss: 0.4360 - val_accuracy: 0.7794\n",
      "Epoch 187/200\n",
      "150/150 [==============================] - 0s 1ms/step - loss: 0.4129 - accuracy: 0.8061 - val_loss: 0.4483 - val_accuracy: 0.7838\n",
      "Epoch 188/200\n",
      "150/150 [==============================] - 0s 1ms/step - loss: 0.4131 - accuracy: 0.8084 - val_loss: 0.4410 - val_accuracy: 0.7838\n",
      "Epoch 189/200\n",
      "150/150 [==============================] - 0s 1ms/step - loss: 0.4133 - accuracy: 0.8084 - val_loss: 0.4466 - val_accuracy: 0.7847\n",
      "Epoch 190/200\n",
      "150/150 [==============================] - 0s 1ms/step - loss: 0.4130 - accuracy: 0.8073 - val_loss: 0.4469 - val_accuracy: 0.7856\n",
      "Epoch 191/200\n",
      "150/150 [==============================] - 0s 1ms/step - loss: 0.4153 - accuracy: 0.8088 - val_loss: 0.4359 - val_accuracy: 0.7820\n",
      "Epoch 192/200\n",
      "150/150 [==============================] - 0s 1ms/step - loss: 0.4115 - accuracy: 0.8081 - val_loss: 0.4336 - val_accuracy: 0.7820\n",
      "Epoch 193/200\n",
      "150/150 [==============================] - 0s 1ms/step - loss: 0.4125 - accuracy: 0.8110 - val_loss: 0.4422 - val_accuracy: 0.7811\n",
      "Epoch 194/200\n",
      "150/150 [==============================] - 0s 1ms/step - loss: 0.4123 - accuracy: 0.8097 - val_loss: 0.4421 - val_accuracy: 0.7856\n",
      "Epoch 195/200\n",
      "150/150 [==============================] - 0s 1ms/step - loss: 0.4127 - accuracy: 0.8086 - val_loss: 0.4459 - val_accuracy: 0.7794\n",
      "Epoch 196/200\n",
      "150/150 [==============================] - 0s 1ms/step - loss: 0.4134 - accuracy: 0.8084 - val_loss: 0.4364 - val_accuracy: 0.7856\n",
      "Epoch 197/200\n",
      "150/150 [==============================] - 0s 1ms/step - loss: 0.4132 - accuracy: 0.8090 - val_loss: 0.4385 - val_accuracy: 0.7776\n",
      "Epoch 198/200\n",
      "150/150 [==============================] - 0s 1ms/step - loss: 0.4121 - accuracy: 0.8070 - val_loss: 0.4471 - val_accuracy: 0.7785\n",
      "Epoch 199/200\n",
      "150/150 [==============================] - 0s 1ms/step - loss: 0.4127 - accuracy: 0.8101 - val_loss: 0.4380 - val_accuracy: 0.7856\n",
      "Epoch 200/200\n",
      "150/150 [==============================] - 0s 1ms/step - loss: 0.4121 - accuracy: 0.8106 - val_loss: 0.4368 - val_accuracy: 0.7829\n"
     ]
    }
   ],
   "source": [
    "history_final = model_final.fit(train_data, epochs=200,\n",
    "                            validation_data=(val_data), verbose=1)"
   ]
  },
  {
   "cell_type": "markdown",
   "metadata": {},
   "source": [
    "### 8. Model Evaluation Sequence API with Tuning"
   ]
  },
  {
   "cell_type": "code",
   "execution_count": 200,
   "metadata": {},
   "outputs": [
    {
     "data": {
      "text/plain": [
       "<matplotlib.legend.Legend at 0x2577084ea60>"
      ]
     },
     "execution_count": 200,
     "metadata": {},
     "output_type": "execute_result"
    },
    {
     "data": {
      "image/png": "[encoded data removed]",
      "text/plain": [
       "<Figure size 432x288 with 1 Axes>"
      ]
     },
     "metadata": {
      "needs_background": "light"
     },
     "output_type": "display_data"
    }
   ],
   "source": [
    "fig, ax = plt.subplots()\n",
    "ax.plot(range(200),history_final.history['loss'],label='train loss')\n",
    "ax.plot(range(200),history_final.history['val_loss'],label='val loss')\n",
    "ax.set_xlabel('Epoch')\n",
    "ax.set_ylabel('Loss')\n",
    "plt.legend()"
   ]
  },
  {
   "cell_type": "code",
   "execution_count": 201,
   "metadata": {},
   "outputs": [
    {
     "data": {
      "text/plain": [
       "<matplotlib.legend.Legend at 0x257708f0190>"
      ]
     },
     "execution_count": 201,
     "metadata": {},
     "output_type": "execute_result"
    },
    {
     "data": {
      "image/png": "[encoded data removed]",
      "text/plain": [
       "<Figure size 432x288 with 1 Axes>"
      ]
     },
     "metadata": {
      "needs_background": "light"
     },
     "output_type": "display_data"
    }
   ],
   "source": [
    "fig, ax = plt.subplots()\n",
    "ax.plot(range(200),history_final.history['accuracy'],label='accuracy')\n",
    "ax.plot(range(200),history_final.history['val_accuracy'],label='val_accuracy')\n",
    "ax.set_xlabel('Epoch')\n",
    "ax.set_ylabel('Loss')\n",
    "plt.legend()"
   ]
  },
  {
   "cell_type": "code",
   "execution_count": 202,
   "metadata": {},
   "outputs": [
    {
     "name": "stdout",
     "output_type": "stream",
     "text": [
      "44/44 [==============================] - 0s 741us/step - loss: 0.4471 - accuracy: 0.7886\n"
     ]
    },
    {
     "data": {
      "text/plain": [
       "[0.44709572196006775, 0.7886121273040771]"
      ]
     },
     "execution_count": 202,
     "metadata": {},
     "output_type": "execute_result"
    }
   ],
   "source": [
    "model_final.evaluate(X_test_final, y_test)"
   ]
  },
  {
   "cell_type": "markdown",
   "metadata": {},
   "source": [
    "### 9. Predict with Data Test"
   ]
  },
  {
   "cell_type": "code",
   "execution_count": 203,
   "metadata": {},
   "outputs": [
    {
     "name": "stdout",
     "output_type": "stream",
     "text": [
      "WARNING:tensorflow:6 out of the last 11 calls to <function Model.make_predict_function.<locals>.predict_function at 0x0000025770935280> triggered tf.function retracing. Tracing is expensive and the excessive number of tracings could be due to (1) creating @tf.function repeatedly in a loop, (2) passing tensors with different shapes, (3) passing Python objects instead of tensors. For (1), please define your @tf.function outside of the loop. For (2), @tf.function has reduce_retracing=True option that can avoid unnecessary retracing. For (3), please refer to https://www.tensorflow.org/guide/function#controlling_retracing and https://www.tensorflow.org/api_docs/python/tf/function for  more details.\n",
      "1/1 [==============================] - 0s 42ms/step\n"
     ]
    },
    {
     "data": {
      "text/plain": [
       "array([[0.81, 0.19],\n",
       "       [0.98, 0.02],\n",
       "       [0.57, 0.43],\n",
       "       [0.31, 0.69],\n",
       "       [0.54, 0.46],\n",
       "       [0.34, 0.66],\n",
       "       [0.51, 0.49],\n",
       "       [0.87, 0.13],\n",
       "       [0.68, 0.32],\n",
       "       [0.91, 0.09]], dtype=float32)"
      ]
     },
     "execution_count": 203,
     "metadata": {},
     "output_type": "execute_result"
    }
   ],
   "source": [
    "X_new_final = X_test_final[:10]\n",
    "y_proba_final = model_final.predict(X_new_final)\n",
    "y_proba_final.round(2)"
   ]
  },
  {
   "cell_type": "markdown",
   "metadata": {},
   "source": [
    "Dapat dilihat dari hasil probabilitas per class nya, dari class 0 dan class 1 peluang class 0 lebih tinggi dibanding class 1"
   ]
  },
  {
   "cell_type": "code",
   "execution_count": 204,
   "metadata": {},
   "outputs": [
    {
     "name": "stdout",
     "output_type": "stream",
     "text": [
      "1/1 [==============================] - 0s 12ms/step\n"
     ]
    },
    {
     "data": {
      "text/plain": [
       "array([0, 0, 0, 1, 0, 1, 0, 0, 0, 0], dtype=int64)"
      ]
     },
     "execution_count": 204,
     "metadata": {},
     "output_type": "execute_result"
    }
   ],
   "source": [
    "y_pred_final = np.argmax(model_final.predict(X_new_final), axis=-1)\n",
    "y_pred_final"
   ]
  },
  {
   "cell_type": "code",
   "execution_count": 205,
   "metadata": {},
   "outputs": [
    {
     "data": {
      "text/plain": [
       "array(['No', 'No', 'No', 'Yes', 'No', 'Yes', 'No', 'No', 'No', 'No'],\n",
       "      dtype='<U3')"
      ]
     },
     "execution_count": 205,
     "metadata": {},
     "output_type": "execute_result"
    }
   ],
   "source": [
    "np.array(class_names)[y_pred_final]"
   ]
  },
  {
   "cell_type": "code",
   "execution_count": 206,
   "metadata": {},
   "outputs": [
    {
     "data": {
      "text/plain": [
       "4381    1\n",
       "2446    0\n",
       "6582    1\n",
       "64      1\n",
       "4841    1\n",
       "5671    0\n",
       "1445    0\n",
       "3140    0\n",
       "5890    1\n",
       "1891    0\n",
       "Name: Churn, dtype: int64"
      ]
     },
     "execution_count": 206,
     "metadata": {},
     "output_type": "execute_result"
    }
   ],
   "source": [
    "y_new = y_test[:10]\n",
    "y_new"
   ]
  },
  {
   "cell_type": "markdown",
   "metadata": {},
   "source": [
    "* Berdasarkan hasil prediksi mendapatkan hasil yang kurang memuaskan dimana hasil yang dapat diprediksi benar hanyalah sebesar 60% dan hasil ini tidak terlalu baik. Jika diperhatikan ada kemungkinan hasil yang buruk ini disebabkan oleh data awal yang imbalance. Saran untuk selanjutnya akan lebih baik jika sebelum memulai proses modeling dilakukan proses balancing data dengan SMOTENC untuk mendapatkan sample yang seimbang antara class 0 dan class 1.\n",
    "\n",
    "* Dikarenakan hasil tuning yang saya lakukan tidak terlalu memuaskan maka saya akan kemabali menggunakan model dengan sequence API tanpa menggunakan tuning untuk dimasukan kedalam deployment"
   ]
  },
  {
   "cell_type": "markdown",
   "metadata": {},
   "source": [
    "### Predict with Inference Data"
   ]
  },
  {
   "cell_type": "markdown",
   "metadata": {},
   "source": [
    "### 10. Model Saving"
   ]
  },
  {
   "cell_type": "code",
   "execution_count": null,
   "metadata": {},
   "outputs": [],
   "source": [
    "with open(\"final_pipe.pkl\", \"wb\") as pipe_file:\n",
    "    pickle.dump(prep_pipeline, pipe_file)\n",
    "\n",
    "model_seq.save(\"my_keras_model.h5\")"
   ]
  }
 ],
 "metadata": {
  "kernelspec": {
   "display_name": "Python 3.9.7 ('base')",
   "language": "python",
   "name": "python3"
  },
  "language_info": {
   "codemirror_mode": {
    "name": "ipython",
    "version": 3
   },
   "file_extension": ".py",
   "mimetype": "text/x-python",
   "name": "python",
   "nbconvert_exporter": "python",
   "pygments_lexer": "ipython3",
   "version": "3.9.7"
  },
  "orig_nbformat": 4,
  "vscode": {
   "interpreter": {
    "hash": "8c181fe7654212855a091e81de7546a09c7d5d917ac933b85a978b9b77b35fbf"
   }
  }
 },
 "nbformat": 4,
 "nbformat_minor": 2
}
